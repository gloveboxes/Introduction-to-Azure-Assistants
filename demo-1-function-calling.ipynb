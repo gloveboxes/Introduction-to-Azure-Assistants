{
 "cells": [
  {
   "cell_type": "markdown",
   "metadata": {},
   "source": [
    "# Introduction to Azure OpenAI Function Calling\n"
   ]
  },
  {
   "cell_type": "markdown",
   "metadata": {},
   "source": [
    "## Objective\n",
    "\n",
    "This notebook demonstrates the following:\n",
    "\n",
    "1. Generative AI\n",
    "1. Function calling\n"
   ]
  },
  {
   "cell_type": "markdown",
   "metadata": {},
   "source": [
    "## Time\n",
    "\n",
    "You should expect to spend 2 minutes running this sample.\n"
   ]
  },
  {
   "cell_type": "markdown",
   "metadata": {},
   "source": [
    "## About this example\n",
    "\n",
    "The objective of the provided Python file is to learn about Azure OpenAI Function Calling using the Azure OpenAI API.\n"
   ]
  },
  {
   "cell_type": "markdown",
   "metadata": {},
   "source": [
    "## Installation\n",
    "\n",
    "Refer to the README.md file in this folder for installation instructions.\n"
   ]
  },
  {
   "cell_type": "code",
   "execution_count": 1,
   "metadata": {},
   "outputs": [
    {
     "name": "stdout",
     "output_type": "stream",
     "text": [
      "Requirement already satisfied: openai<2.0.0,>=1.37.1 in ./.venv/lib/python3.11/site-packages (from -r requirements.txt (line 1)) (1.38.0)\n",
      "Requirement already satisfied: python-dotenv<2.0.0,>=1.0.1 in ./.venv/lib/python3.11/site-packages (from -r requirements.txt (line 2)) (1.0.1)\n",
      "Requirement already satisfied: yfinance<0.3.0,>=0.2.41 in ./.venv/lib/python3.11/site-packages (from -r requirements.txt (line 3)) (0.2.41)\n",
      "Requirement already satisfied: pillow<11.0.0,>=10.4.0 in ./.venv/lib/python3.11/site-packages (from -r requirements.txt (line 4)) (10.4.0)\n",
      "Requirement already satisfied: ipython in ./.venv/lib/python3.11/site-packages (from -r requirements.txt (line 5)) (8.26.0)\n",
      "Requirement already satisfied: jupyter in ./.venv/lib/python3.11/site-packages (from -r requirements.txt (line 6)) (1.0.0)\n",
      "Requirement already satisfied: anyio<5,>=3.5.0 in ./.venv/lib/python3.11/site-packages (from openai<2.0.0,>=1.37.1->-r requirements.txt (line 1)) (4.4.0)\n",
      "Requirement already satisfied: distro<2,>=1.7.0 in ./.venv/lib/python3.11/site-packages (from openai<2.0.0,>=1.37.1->-r requirements.txt (line 1)) (1.9.0)\n",
      "Requirement already satisfied: httpx<1,>=0.23.0 in ./.venv/lib/python3.11/site-packages (from openai<2.0.0,>=1.37.1->-r requirements.txt (line 1)) (0.27.0)\n",
      "Requirement already satisfied: pydantic<3,>=1.9.0 in ./.venv/lib/python3.11/site-packages (from openai<2.0.0,>=1.37.1->-r requirements.txt (line 1)) (2.8.2)\n",
      "Requirement already satisfied: sniffio in ./.venv/lib/python3.11/site-packages (from openai<2.0.0,>=1.37.1->-r requirements.txt (line 1)) (1.3.1)\n",
      "Requirement already satisfied: tqdm>4 in ./.venv/lib/python3.11/site-packages (from openai<2.0.0,>=1.37.1->-r requirements.txt (line 1)) (4.66.5)\n",
      "Requirement already satisfied: typing-extensions<5,>=4.7 in ./.venv/lib/python3.11/site-packages (from openai<2.0.0,>=1.37.1->-r requirements.txt (line 1)) (4.12.2)\n",
      "Requirement already satisfied: pandas>=1.3.0 in ./.venv/lib/python3.11/site-packages (from yfinance<0.3.0,>=0.2.41->-r requirements.txt (line 3)) (2.2.2)\n",
      "Requirement already satisfied: numpy>=1.16.5 in ./.venv/lib/python3.11/site-packages (from yfinance<0.3.0,>=0.2.41->-r requirements.txt (line 3)) (2.0.1)\n",
      "Requirement already satisfied: requests>=2.31 in ./.venv/lib/python3.11/site-packages (from yfinance<0.3.0,>=0.2.41->-r requirements.txt (line 3)) (2.32.3)\n",
      "Requirement already satisfied: multitasking>=0.0.7 in ./.venv/lib/python3.11/site-packages (from yfinance<0.3.0,>=0.2.41->-r requirements.txt (line 3)) (0.0.11)\n",
      "Requirement already satisfied: lxml>=4.9.1 in ./.venv/lib/python3.11/site-packages (from yfinance<0.3.0,>=0.2.41->-r requirements.txt (line 3)) (5.2.2)\n",
      "Requirement already satisfied: platformdirs>=2.0.0 in ./.venv/lib/python3.11/site-packages (from yfinance<0.3.0,>=0.2.41->-r requirements.txt (line 3)) (4.2.2)\n",
      "Requirement already satisfied: pytz>=2022.5 in ./.venv/lib/python3.11/site-packages (from yfinance<0.3.0,>=0.2.41->-r requirements.txt (line 3)) (2024.1)\n",
      "Requirement already satisfied: frozendict>=2.3.4 in ./.venv/lib/python3.11/site-packages (from yfinance<0.3.0,>=0.2.41->-r requirements.txt (line 3)) (2.4.4)\n",
      "Requirement already satisfied: peewee>=3.16.2 in ./.venv/lib/python3.11/site-packages (from yfinance<0.3.0,>=0.2.41->-r requirements.txt (line 3)) (3.17.6)\n",
      "Requirement already satisfied: beautifulsoup4>=4.11.1 in ./.venv/lib/python3.11/site-packages (from yfinance<0.3.0,>=0.2.41->-r requirements.txt (line 3)) (4.12.3)\n",
      "Requirement already satisfied: html5lib>=1.1 in ./.venv/lib/python3.11/site-packages (from yfinance<0.3.0,>=0.2.41->-r requirements.txt (line 3)) (1.1)\n",
      "Requirement already satisfied: decorator in ./.venv/lib/python3.11/site-packages (from ipython->-r requirements.txt (line 5)) (5.1.1)\n",
      "Requirement already satisfied: jedi>=0.16 in ./.venv/lib/python3.11/site-packages (from ipython->-r requirements.txt (line 5)) (0.19.1)\n",
      "Requirement already satisfied: matplotlib-inline in ./.venv/lib/python3.11/site-packages (from ipython->-r requirements.txt (line 5)) (0.1.7)\n",
      "Requirement already satisfied: prompt-toolkit<3.1.0,>=3.0.41 in ./.venv/lib/python3.11/site-packages (from ipython->-r requirements.txt (line 5)) (3.0.47)\n",
      "Requirement already satisfied: pygments>=2.4.0 in ./.venv/lib/python3.11/site-packages (from ipython->-r requirements.txt (line 5)) (2.18.0)\n",
      "Requirement already satisfied: stack-data in ./.venv/lib/python3.11/site-packages (from ipython->-r requirements.txt (line 5)) (0.6.3)\n",
      "Requirement already satisfied: traitlets>=5.13.0 in ./.venv/lib/python3.11/site-packages (from ipython->-r requirements.txt (line 5)) (5.14.3)\n",
      "Requirement already satisfied: pexpect>4.3 in ./.venv/lib/python3.11/site-packages (from ipython->-r requirements.txt (line 5)) (4.9.0)\n",
      "Requirement already satisfied: notebook in ./.venv/lib/python3.11/site-packages (from jupyter->-r requirements.txt (line 6)) (7.2.1)\n",
      "Requirement already satisfied: qtconsole in ./.venv/lib/python3.11/site-packages (from jupyter->-r requirements.txt (line 6)) (5.5.2)\n",
      "Requirement already satisfied: jupyter-console in ./.venv/lib/python3.11/site-packages (from jupyter->-r requirements.txt (line 6)) (6.6.3)\n",
      "Requirement already satisfied: nbconvert in ./.venv/lib/python3.11/site-packages (from jupyter->-r requirements.txt (line 6)) (7.16.4)\n",
      "Requirement already satisfied: ipykernel in ./.venv/lib/python3.11/site-packages (from jupyter->-r requirements.txt (line 6)) (6.29.5)\n",
      "Requirement already satisfied: ipywidgets in ./.venv/lib/python3.11/site-packages (from jupyter->-r requirements.txt (line 6)) (8.1.3)\n",
      "Requirement already satisfied: idna>=2.8 in ./.venv/lib/python3.11/site-packages (from anyio<5,>=3.5.0->openai<2.0.0,>=1.37.1->-r requirements.txt (line 1)) (3.7)\n",
      "Requirement already satisfied: soupsieve>1.2 in ./.venv/lib/python3.11/site-packages (from beautifulsoup4>=4.11.1->yfinance<0.3.0,>=0.2.41->-r requirements.txt (line 3)) (2.5)\n",
      "Requirement already satisfied: six>=1.9 in ./.venv/lib/python3.11/site-packages (from html5lib>=1.1->yfinance<0.3.0,>=0.2.41->-r requirements.txt (line 3)) (1.16.0)\n",
      "Requirement already satisfied: webencodings in ./.venv/lib/python3.11/site-packages (from html5lib>=1.1->yfinance<0.3.0,>=0.2.41->-r requirements.txt (line 3)) (0.5.1)\n",
      "Requirement already satisfied: certifi in ./.venv/lib/python3.11/site-packages (from httpx<1,>=0.23.0->openai<2.0.0,>=1.37.1->-r requirements.txt (line 1)) (2024.7.4)\n",
      "Requirement already satisfied: httpcore==1.* in ./.venv/lib/python3.11/site-packages (from httpx<1,>=0.23.0->openai<2.0.0,>=1.37.1->-r requirements.txt (line 1)) (1.0.5)\n",
      "Requirement already satisfied: h11<0.15,>=0.13 in ./.venv/lib/python3.11/site-packages (from httpcore==1.*->httpx<1,>=0.23.0->openai<2.0.0,>=1.37.1->-r requirements.txt (line 1)) (0.14.0)\n",
      "Requirement already satisfied: parso<0.9.0,>=0.8.3 in ./.venv/lib/python3.11/site-packages (from jedi>=0.16->ipython->-r requirements.txt (line 5)) (0.8.4)\n",
      "Requirement already satisfied: python-dateutil>=2.8.2 in ./.venv/lib/python3.11/site-packages (from pandas>=1.3.0->yfinance<0.3.0,>=0.2.41->-r requirements.txt (line 3)) (2.9.0.post0)\n",
      "Requirement already satisfied: tzdata>=2022.7 in ./.venv/lib/python3.11/site-packages (from pandas>=1.3.0->yfinance<0.3.0,>=0.2.41->-r requirements.txt (line 3)) (2024.1)\n",
      "Requirement already satisfied: ptyprocess>=0.5 in ./.venv/lib/python3.11/site-packages (from pexpect>4.3->ipython->-r requirements.txt (line 5)) (0.7.0)\n",
      "Requirement already satisfied: wcwidth in ./.venv/lib/python3.11/site-packages (from prompt-toolkit<3.1.0,>=3.0.41->ipython->-r requirements.txt (line 5)) (0.2.13)\n",
      "Requirement already satisfied: annotated-types>=0.4.0 in ./.venv/lib/python3.11/site-packages (from pydantic<3,>=1.9.0->openai<2.0.0,>=1.37.1->-r requirements.txt (line 1)) (0.7.0)\n",
      "Requirement already satisfied: pydantic-core==2.20.1 in ./.venv/lib/python3.11/site-packages (from pydantic<3,>=1.9.0->openai<2.0.0,>=1.37.1->-r requirements.txt (line 1)) (2.20.1)\n",
      "Requirement already satisfied: charset-normalizer<4,>=2 in ./.venv/lib/python3.11/site-packages (from requests>=2.31->yfinance<0.3.0,>=0.2.41->-r requirements.txt (line 3)) (3.3.2)\n",
      "Requirement already satisfied: urllib3<3,>=1.21.1 in ./.venv/lib/python3.11/site-packages (from requests>=2.31->yfinance<0.3.0,>=0.2.41->-r requirements.txt (line 3)) (2.2.2)\n",
      "Requirement already satisfied: appnope in ./.venv/lib/python3.11/site-packages (from ipykernel->jupyter->-r requirements.txt (line 6)) (0.1.4)\n",
      "Requirement already satisfied: comm>=0.1.1 in ./.venv/lib/python3.11/site-packages (from ipykernel->jupyter->-r requirements.txt (line 6)) (0.2.2)\n",
      "Requirement already satisfied: debugpy>=1.6.5 in ./.venv/lib/python3.11/site-packages (from ipykernel->jupyter->-r requirements.txt (line 6)) (1.8.3)\n",
      "Requirement already satisfied: jupyter-client>=6.1.12 in ./.venv/lib/python3.11/site-packages (from ipykernel->jupyter->-r requirements.txt (line 6)) (8.6.2)\n",
      "Requirement already satisfied: jupyter-core!=5.0.*,>=4.12 in ./.venv/lib/python3.11/site-packages (from ipykernel->jupyter->-r requirements.txt (line 6)) (5.7.2)\n",
      "Requirement already satisfied: nest-asyncio in ./.venv/lib/python3.11/site-packages (from ipykernel->jupyter->-r requirements.txt (line 6)) (1.6.0)\n",
      "Requirement already satisfied: packaging in ./.venv/lib/python3.11/site-packages (from ipykernel->jupyter->-r requirements.txt (line 6)) (24.1)\n",
      "Requirement already satisfied: psutil in ./.venv/lib/python3.11/site-packages (from ipykernel->jupyter->-r requirements.txt (line 6)) (6.0.0)\n",
      "Requirement already satisfied: pyzmq>=24 in ./.venv/lib/python3.11/site-packages (from ipykernel->jupyter->-r requirements.txt (line 6)) (26.1.0)\n",
      "Requirement already satisfied: tornado>=6.1 in ./.venv/lib/python3.11/site-packages (from ipykernel->jupyter->-r requirements.txt (line 6)) (6.4.1)\n",
      "Requirement already satisfied: widgetsnbextension~=4.0.11 in ./.venv/lib/python3.11/site-packages (from ipywidgets->jupyter->-r requirements.txt (line 6)) (4.0.11)\n",
      "Requirement already satisfied: jupyterlab-widgets~=3.0.11 in ./.venv/lib/python3.11/site-packages (from ipywidgets->jupyter->-r requirements.txt (line 6)) (3.0.11)\n",
      "Requirement already satisfied: bleach!=5.0.0 in ./.venv/lib/python3.11/site-packages (from nbconvert->jupyter->-r requirements.txt (line 6)) (6.1.0)\n",
      "Requirement already satisfied: defusedxml in ./.venv/lib/python3.11/site-packages (from nbconvert->jupyter->-r requirements.txt (line 6)) (0.7.1)\n",
      "Requirement already satisfied: jinja2>=3.0 in ./.venv/lib/python3.11/site-packages (from nbconvert->jupyter->-r requirements.txt (line 6)) (3.1.4)\n",
      "Requirement already satisfied: jupyterlab-pygments in ./.venv/lib/python3.11/site-packages (from nbconvert->jupyter->-r requirements.txt (line 6)) (0.3.0)\n",
      "Requirement already satisfied: markupsafe>=2.0 in ./.venv/lib/python3.11/site-packages (from nbconvert->jupyter->-r requirements.txt (line 6)) (2.1.5)\n",
      "Requirement already satisfied: mistune<4,>=2.0.3 in ./.venv/lib/python3.11/site-packages (from nbconvert->jupyter->-r requirements.txt (line 6)) (3.0.2)\n",
      "Requirement already satisfied: nbclient>=0.5.0 in ./.venv/lib/python3.11/site-packages (from nbconvert->jupyter->-r requirements.txt (line 6)) (0.10.0)\n",
      "Requirement already satisfied: nbformat>=5.7 in ./.venv/lib/python3.11/site-packages (from nbconvert->jupyter->-r requirements.txt (line 6)) (5.10.4)\n",
      "Requirement already satisfied: pandocfilters>=1.4.1 in ./.venv/lib/python3.11/site-packages (from nbconvert->jupyter->-r requirements.txt (line 6)) (1.5.1)\n",
      "Requirement already satisfied: tinycss2 in ./.venv/lib/python3.11/site-packages (from nbconvert->jupyter->-r requirements.txt (line 6)) (1.3.0)\n",
      "Requirement already satisfied: jupyter-server<3,>=2.4.0 in ./.venv/lib/python3.11/site-packages (from notebook->jupyter->-r requirements.txt (line 6)) (2.14.2)\n",
      "Requirement already satisfied: jupyterlab-server<3,>=2.27.1 in ./.venv/lib/python3.11/site-packages (from notebook->jupyter->-r requirements.txt (line 6)) (2.27.3)\n",
      "Requirement already satisfied: jupyterlab<4.3,>=4.2.0 in ./.venv/lib/python3.11/site-packages (from notebook->jupyter->-r requirements.txt (line 6)) (4.2.4)\n",
      "Requirement already satisfied: notebook-shim<0.3,>=0.2 in ./.venv/lib/python3.11/site-packages (from notebook->jupyter->-r requirements.txt (line 6)) (0.2.4)\n",
      "Requirement already satisfied: qtpy>=2.4.0 in ./.venv/lib/python3.11/site-packages (from qtconsole->jupyter->-r requirements.txt (line 6)) (2.4.1)\n",
      "Requirement already satisfied: executing>=1.2.0 in ./.venv/lib/python3.11/site-packages (from stack-data->ipython->-r requirements.txt (line 5)) (2.0.1)\n",
      "Requirement already satisfied: asttokens>=2.1.0 in ./.venv/lib/python3.11/site-packages (from stack-data->ipython->-r requirements.txt (line 5)) (2.4.1)\n",
      "Requirement already satisfied: pure-eval in ./.venv/lib/python3.11/site-packages (from stack-data->ipython->-r requirements.txt (line 5)) (0.2.3)\n",
      "Requirement already satisfied: argon2-cffi>=21.1 in ./.venv/lib/python3.11/site-packages (from jupyter-server<3,>=2.4.0->notebook->jupyter->-r requirements.txt (line 6)) (23.1.0)\n",
      "Requirement already satisfied: jupyter-events>=0.9.0 in ./.venv/lib/python3.11/site-packages (from jupyter-server<3,>=2.4.0->notebook->jupyter->-r requirements.txt (line 6)) (0.10.0)\n",
      "Requirement already satisfied: jupyter-server-terminals>=0.4.4 in ./.venv/lib/python3.11/site-packages (from jupyter-server<3,>=2.4.0->notebook->jupyter->-r requirements.txt (line 6)) (0.5.3)\n",
      "Requirement already satisfied: overrides>=5.0 in ./.venv/lib/python3.11/site-packages (from jupyter-server<3,>=2.4.0->notebook->jupyter->-r requirements.txt (line 6)) (7.7.0)\n",
      "Requirement already satisfied: prometheus-client>=0.9 in ./.venv/lib/python3.11/site-packages (from jupyter-server<3,>=2.4.0->notebook->jupyter->-r requirements.txt (line 6)) (0.20.0)\n",
      "Requirement already satisfied: send2trash>=1.8.2 in ./.venv/lib/python3.11/site-packages (from jupyter-server<3,>=2.4.0->notebook->jupyter->-r requirements.txt (line 6)) (1.8.3)\n",
      "Requirement already satisfied: terminado>=0.8.3 in ./.venv/lib/python3.11/site-packages (from jupyter-server<3,>=2.4.0->notebook->jupyter->-r requirements.txt (line 6)) (0.18.1)\n",
      "Requirement already satisfied: websocket-client>=1.7 in ./.venv/lib/python3.11/site-packages (from jupyter-server<3,>=2.4.0->notebook->jupyter->-r requirements.txt (line 6)) (1.8.0)\n",
      "Requirement already satisfied: async-lru>=1.0.0 in ./.venv/lib/python3.11/site-packages (from jupyterlab<4.3,>=4.2.0->notebook->jupyter->-r requirements.txt (line 6)) (2.0.4)\n",
      "Requirement already satisfied: jupyter-lsp>=2.0.0 in ./.venv/lib/python3.11/site-packages (from jupyterlab<4.3,>=4.2.0->notebook->jupyter->-r requirements.txt (line 6)) (2.2.5)\n",
      "Requirement already satisfied: setuptools>=40.1.0 in ./.venv/lib/python3.11/site-packages (from jupyterlab<4.3,>=4.2.0->notebook->jupyter->-r requirements.txt (line 6)) (65.5.0)\n",
      "Requirement already satisfied: babel>=2.10 in ./.venv/lib/python3.11/site-packages (from jupyterlab-server<3,>=2.27.1->notebook->jupyter->-r requirements.txt (line 6)) (2.15.0)\n",
      "Requirement already satisfied: json5>=0.9.0 in ./.venv/lib/python3.11/site-packages (from jupyterlab-server<3,>=2.27.1->notebook->jupyter->-r requirements.txt (line 6)) (0.9.25)\n",
      "Requirement already satisfied: jsonschema>=4.18.0 in ./.venv/lib/python3.11/site-packages (from jupyterlab-server<3,>=2.27.1->notebook->jupyter->-r requirements.txt (line 6)) (4.23.0)\n",
      "Requirement already satisfied: fastjsonschema>=2.15 in ./.venv/lib/python3.11/site-packages (from nbformat>=5.7->nbconvert->jupyter->-r requirements.txt (line 6)) (2.20.0)\n",
      "Requirement already satisfied: argon2-cffi-bindings in ./.venv/lib/python3.11/site-packages (from argon2-cffi>=21.1->jupyter-server<3,>=2.4.0->notebook->jupyter->-r requirements.txt (line 6)) (21.2.0)\n",
      "Requirement already satisfied: attrs>=22.2.0 in ./.venv/lib/python3.11/site-packages (from jsonschema>=4.18.0->jupyterlab-server<3,>=2.27.1->notebook->jupyter->-r requirements.txt (line 6)) (24.1.0)\n",
      "Requirement already satisfied: jsonschema-specifications>=2023.03.6 in ./.venv/lib/python3.11/site-packages (from jsonschema>=4.18.0->jupyterlab-server<3,>=2.27.1->notebook->jupyter->-r requirements.txt (line 6)) (2023.12.1)\n",
      "Requirement already satisfied: referencing>=0.28.4 in ./.venv/lib/python3.11/site-packages (from jsonschema>=4.18.0->jupyterlab-server<3,>=2.27.1->notebook->jupyter->-r requirements.txt (line 6)) (0.35.1)\n",
      "Requirement already satisfied: rpds-py>=0.7.1 in ./.venv/lib/python3.11/site-packages (from jsonschema>=4.18.0->jupyterlab-server<3,>=2.27.1->notebook->jupyter->-r requirements.txt (line 6)) (0.19.1)\n",
      "Requirement already satisfied: python-json-logger>=2.0.4 in ./.venv/lib/python3.11/site-packages (from jupyter-events>=0.9.0->jupyter-server<3,>=2.4.0->notebook->jupyter->-r requirements.txt (line 6)) (2.0.7)\n",
      "Requirement already satisfied: pyyaml>=5.3 in ./.venv/lib/python3.11/site-packages (from jupyter-events>=0.9.0->jupyter-server<3,>=2.4.0->notebook->jupyter->-r requirements.txt (line 6)) (6.0.1)\n",
      "Requirement already satisfied: rfc3339-validator in ./.venv/lib/python3.11/site-packages (from jupyter-events>=0.9.0->jupyter-server<3,>=2.4.0->notebook->jupyter->-r requirements.txt (line 6)) (0.1.4)\n",
      "Requirement already satisfied: rfc3986-validator>=0.1.1 in ./.venv/lib/python3.11/site-packages (from jupyter-events>=0.9.0->jupyter-server<3,>=2.4.0->notebook->jupyter->-r requirements.txt (line 6)) (0.1.1)\n",
      "Requirement already satisfied: fqdn in ./.venv/lib/python3.11/site-packages (from jsonschema[format-nongpl]>=4.18.0->jupyter-events>=0.9.0->jupyter-server<3,>=2.4.0->notebook->jupyter->-r requirements.txt (line 6)) (1.5.1)\n",
      "Requirement already satisfied: isoduration in ./.venv/lib/python3.11/site-packages (from jsonschema[format-nongpl]>=4.18.0->jupyter-events>=0.9.0->jupyter-server<3,>=2.4.0->notebook->jupyter->-r requirements.txt (line 6)) (20.11.0)\n",
      "Requirement already satisfied: jsonpointer>1.13 in ./.venv/lib/python3.11/site-packages (from jsonschema[format-nongpl]>=4.18.0->jupyter-events>=0.9.0->jupyter-server<3,>=2.4.0->notebook->jupyter->-r requirements.txt (line 6)) (3.0.0)\n",
      "Requirement already satisfied: uri-template in ./.venv/lib/python3.11/site-packages (from jsonschema[format-nongpl]>=4.18.0->jupyter-events>=0.9.0->jupyter-server<3,>=2.4.0->notebook->jupyter->-r requirements.txt (line 6)) (1.3.0)\n",
      "Requirement already satisfied: webcolors>=24.6.0 in ./.venv/lib/python3.11/site-packages (from jsonschema[format-nongpl]>=4.18.0->jupyter-events>=0.9.0->jupyter-server<3,>=2.4.0->notebook->jupyter->-r requirements.txt (line 6)) (24.6.0)\n",
      "Requirement already satisfied: cffi>=1.0.1 in ./.venv/lib/python3.11/site-packages (from argon2-cffi-bindings->argon2-cffi>=21.1->jupyter-server<3,>=2.4.0->notebook->jupyter->-r requirements.txt (line 6)) (1.16.0)\n",
      "Requirement already satisfied: pycparser in ./.venv/lib/python3.11/site-packages (from cffi>=1.0.1->argon2-cffi-bindings->argon2-cffi>=21.1->jupyter-server<3,>=2.4.0->notebook->jupyter->-r requirements.txt (line 6)) (2.22)\n",
      "Requirement already satisfied: arrow>=0.15.0 in ./.venv/lib/python3.11/site-packages (from isoduration->jsonschema[format-nongpl]>=4.18.0->jupyter-events>=0.9.0->jupyter-server<3,>=2.4.0->notebook->jupyter->-r requirements.txt (line 6)) (1.3.0)\n",
      "Requirement already satisfied: types-python-dateutil>=2.8.10 in ./.venv/lib/python3.11/site-packages (from arrow>=0.15.0->isoduration->jsonschema[format-nongpl]>=4.18.0->jupyter-events>=0.9.0->jupyter-server<3,>=2.4.0->notebook->jupyter->-r requirements.txt (line 6)) (2.9.0.20240316)\n",
      "\n",
      "\u001b[1m[\u001b[0m\u001b[34;49mnotice\u001b[0m\u001b[1;39;49m]\u001b[0m\u001b[39;49m A new release of pip is available: \u001b[0m\u001b[31;49m24.0\u001b[0m\u001b[39;49m -> \u001b[0m\u001b[32;49m24.2\u001b[0m\n",
      "\u001b[1m[\u001b[0m\u001b[34;49mnotice\u001b[0m\u001b[1;39;49m]\u001b[0m\u001b[39;49m To update, run: \u001b[0m\u001b[32;49mpip install --upgrade pip\u001b[0m\n",
      "Note: you may need to restart the kernel to use updated packages.\n"
     ]
    }
   ],
   "source": [
    "# Install the packages\n",
    "%pip install -r requirements.txt"
   ]
  },
  {
   "cell_type": "markdown",
   "metadata": {},
   "source": [
    "## Parameters\n"
   ]
  },
  {
   "cell_type": "code",
   "execution_count": 2,
   "metadata": {},
   "outputs": [],
   "source": [
    "import os\n",
    "import json\n",
    "import sqlite3\n",
    "import pandas as pd\n",
    "from openai import AzureOpenAI\n",
    "from dotenv import load_dotenv\n",
    "\n",
    "load_dotenv(\".env\")\n",
    "\n",
    "api_endpoint = os.getenv(\"OPENAI_URI\")\n",
    "api_key = os.getenv(\"OPENAI_KEY\")\n",
    "api_version = os.getenv(\"OPENAI_VERSION\")\n",
    "api_deployment_name = os.getenv(\"OPENAI_GPT_DEPLOYMENT\")\n",
    "\n",
    "con = sqlite3.connect(\"./database/order_data.db\")\n",
    "\n",
    "instructions = None"
   ]
  },
  {
   "cell_type": "code",
   "execution_count": 3,
   "metadata": {},
   "outputs": [],
   "source": [
    "def get_revenue_by_region(region: str = None) -> pd.DataFrame:\n",
    "    params = []\n",
    "    query = \"\"\"\n",
    "        SELECT\n",
    "            Region,\n",
    "            SUM(Number_of_Orders) AS Number_of_Orders,\n",
    "            CAST(SUM(Sum_of_Order_Value_USD) AS INTEGER) AS Total_Order_Value,\n",
    "            SUM(Sum_of_Order_Value_USD) / SUM(Number_of_Orders) AS Avg_Order_Value,\n",
    "            SUM(Sum_of_Shipping_Cost_USD) / SUM(Number_of_Orders) AS Avg_Shipping_Cost\n",
    "        FROM order_data\n",
    "    \"\"\"\n",
    "\n",
    "    if region:\n",
    "        query += \"WHERE UPPER(Region) = UPPER(?)\\n\"\n",
    "        params.append(region)\n",
    "\n",
    "    query += \"GROUP BY Region ORDER BY Region\"\n",
    "\n",
    "    return pd.read_sql_query(query, con, params=params)"
   ]
  },
  {
   "cell_type": "code",
   "execution_count": 4,
   "metadata": {},
   "outputs": [],
   "source": [
    "def get_sales_by_month(month: int) -> pd.DataFrame:\n",
    "    query = \"\"\"\n",
    "        SELECT   \n",
    "            SUM(Sum_of_Order_Value_USD) AS Revenue, Month, Year\n",
    "            FROM order_data WHERE Month = ? GROUP BY Month, Year ORDER BY Year, Month\n",
    "    \"\"\"\n",
    "\n",
    "    return pd.read_sql_query(query, con, params=[month])"
   ]
  },
  {
   "cell_type": "markdown",
   "metadata": {},
   "source": [
    "### Create an AzureOpenAI client\n"
   ]
  },
  {
   "cell_type": "code",
   "execution_count": 5,
   "metadata": {},
   "outputs": [],
   "source": [
    "client = AzureOpenAI(\n",
    "    api_key=api_key, api_version=api_version, azure_endpoint=api_endpoint\n",
    ")"
   ]
  },
  {
   "cell_type": "markdown",
   "metadata": {},
   "source": [
    "### Define the Assistant tools\n"
   ]
  },
  {
   "cell_type": "code",
   "execution_count": 6,
   "metadata": {},
   "outputs": [],
   "source": [
    "tools_list = [\n",
    "    {\n",
    "        \"type\": \"function\",\n",
    "        \"function\": {\n",
    "            \"name\": \"get_revenue_by_region\",\n",
    "            \"description\": \"Get the sales revenue for Contoso by region.\",\n",
    "            \"parameters\": {\n",
    "                \"type\": \"object\",\n",
    "                \"properties\": {\n",
    "                    \"region\": {\"type\": \"string\"},\n",
    "                },\n",
    "            },\n",
    "        },\n",
    "    },\n",
    "    {\n",
    "        \"type\": \"function\",\n",
    "        \"function\": {\n",
    "            \"name\": \"get_sales_by_month\",\n",
    "            \"description\": \"Get the Contoso sales by month.\",\n",
    "            \"parameters\": {\n",
    "                \"type\": \"object\",\n",
    "                \"properties\": {\n",
    "                    \"month\": {\n",
    "                        \"type\": \"integer\",\n",
    "                        \"description\": \"The Contoso sales for a specific month.\",\n",
    "                    }\n",
    "                },\n",
    "                \"required\": [\"month\"],\n",
    "            },\n",
    "        },\n",
    "    },\n",
    "]"
   ]
  },
  {
   "cell_type": "markdown",
   "metadata": {},
   "source": [
    "### Process Function calling\n"
   ]
  },
  {
   "cell_type": "code",
   "execution_count": 7,
   "metadata": {},
   "outputs": [],
   "source": [
    "def call_functions(tool_calls) -> None:\n",
    "    function_map = {\n",
    "        \"get_revenue_by_region\": get_revenue_by_region,\n",
    "        \"get_sales_by_month\": get_sales_by_month,\n",
    "    }\n",
    "\n",
    "    for tool_call in tool_calls:\n",
    "        function_name = tool_call.function.name\n",
    "        function_args = json.loads(tool_call.function.arguments)\n",
    "\n",
    "        print(f\"\\nFunction Name: {function_name}, Function Args: {function_args}\\n\")\n",
    "\n",
    "        function = function_map.get(function_name)\n",
    "\n",
    "        if function:\n",
    "            if function_name == \"get_revenue_by_region\":\n",
    "                result_df = function(region=function_args.get(\"region\"))\n",
    "            elif function_name == \"get_sales_by_month\":\n",
    "                result_df = function(month=function_args.get(\"month\"))\n",
    "\n",
    "            display(result_df)"
   ]
  },
  {
   "cell_type": "markdown",
   "metadata": {},
   "source": [
    "## Instructions for role system assignment\n"
   ]
  },
  {
   "cell_type": "code",
   "execution_count": 8,
   "metadata": {},
   "outputs": [],
   "source": [
    "instructions = \" \".join(\n",
    "    (\n",
    "        \"You are a sales analysis assistant for Contoso.\",\n",
    "        \"Please be polite, professional, helpful, and friendly.\",\n",
    "        \"You get all the sales data from this app using the functions provided.\",\n",
    "        \"If a question is not related to the sales or you cannot answer the question, \",\n",
    "        \"say, 'contact IT for more assistance.' \",\n",
    "        \"If the user asks for help or says 'help', provide a list of sample questions that you can answer.\",\n",
    "    )\n",
    ")"
   ]
  },
  {
   "cell_type": "markdown",
   "metadata": {},
   "source": [
    "## Construct the Assistant and send to Azure OpenAI\n"
   ]
  },
  {
   "cell_type": "code",
   "execution_count": 9,
   "metadata": {},
   "outputs": [],
   "source": [
    "def process_message(question: str):\n",
    "\n",
    "    messages = [\n",
    "        {\"role\": \"system\", \"content\": instructions},\n",
    "        {\"role\": \"user\", \"content\": question}\n",
    "    ]\n",
    "\n",
    "    response = client.chat.completions.create(\n",
    "        model=api_deployment_name,\n",
    "        messages=messages,\n",
    "        tools=tools_list,\n",
    "    )\n",
    "\n",
    "    response_message = response.choices[0].message\n",
    "    tool_calls = getattr(response_message, 'tool_calls', [])\n",
    "\n",
    "    if tool_calls:\n",
    "        call_functions(tool_calls)\n",
    "    else:\n",
    "        display(f\"Response message: {response_message.content}\")\n",
    "        return"
   ]
  },
  {
   "cell_type": "code",
   "execution_count": 10,
   "metadata": {},
   "outputs": [
    {
     "name": "stdout",
     "output_type": "stream",
     "text": [
      "\n",
      "Function Name: get_revenue_by_region, Function Args: {'region': 'Africa'}\n",
      "\n"
     ]
    },
    {
     "data": {
      "text/html": [
       "<div>\n",
       "<style scoped>\n",
       "    .dataframe tbody tr th:only-of-type {\n",
       "        vertical-align: middle;\n",
       "    }\n",
       "\n",
       "    .dataframe tbody tr th {\n",
       "        vertical-align: top;\n",
       "    }\n",
       "\n",
       "    .dataframe thead th {\n",
       "        text-align: right;\n",
       "    }\n",
       "</style>\n",
       "<table border=\"1\" class=\"dataframe\">\n",
       "  <thead>\n",
       "    <tr style=\"text-align: right;\">\n",
       "      <th></th>\n",
       "      <th>Region</th>\n",
       "      <th>Number_of_Orders</th>\n",
       "      <th>Total_Order_Value</th>\n",
       "      <th>Avg_Order_Value</th>\n",
       "      <th>Avg_Shipping_Cost</th>\n",
       "    </tr>\n",
       "  </thead>\n",
       "  <tbody>\n",
       "    <tr>\n",
       "      <th>0</th>\n",
       "      <td>AFRICA</td>\n",
       "      <td>61209</td>\n",
       "      <td>1533671</td>\n",
       "      <td>25.056306</td>\n",
       "      <td>7.507702</td>\n",
       "    </tr>\n",
       "  </tbody>\n",
       "</table>\n",
       "</div>"
      ],
      "text/plain": [
       "   Region  Number_of_Orders  Total_Order_Value  Avg_Order_Value  \\\n",
       "0  AFRICA             61209            1533671        25.056306   \n",
       "\n",
       "   Avg_Shipping_Cost  \n",
       "0           7.507702  "
      ]
     },
     "metadata": {},
     "output_type": "display_data"
    }
   ],
   "source": [
    "process_message(\"What is the revenue for the region of Africa?\")"
   ]
  },
  {
   "cell_type": "code",
   "execution_count": 11,
   "metadata": {},
   "outputs": [
    {
     "name": "stdout",
     "output_type": "stream",
     "text": [
      "\n",
      "Function Name: get_revenue_by_region, Function Args: {'region': 'North America'}\n",
      "\n"
     ]
    },
    {
     "data": {
      "text/html": [
       "<div>\n",
       "<style scoped>\n",
       "    .dataframe tbody tr th:only-of-type {\n",
       "        vertical-align: middle;\n",
       "    }\n",
       "\n",
       "    .dataframe tbody tr th {\n",
       "        vertical-align: top;\n",
       "    }\n",
       "\n",
       "    .dataframe thead th {\n",
       "        text-align: right;\n",
       "    }\n",
       "</style>\n",
       "<table border=\"1\" class=\"dataframe\">\n",
       "  <thead>\n",
       "    <tr style=\"text-align: right;\">\n",
       "      <th></th>\n",
       "      <th>Region</th>\n",
       "      <th>Number_of_Orders</th>\n",
       "      <th>Total_Order_Value</th>\n",
       "      <th>Avg_Order_Value</th>\n",
       "      <th>Avg_Shipping_Cost</th>\n",
       "    </tr>\n",
       "  </thead>\n",
       "  <tbody>\n",
       "    <tr>\n",
       "      <th>0</th>\n",
       "      <td>NORTH AMERICA</td>\n",
       "      <td>62555</td>\n",
       "      <td>1092029</td>\n",
       "      <td>17.457103</td>\n",
       "      <td>7.502805</td>\n",
       "    </tr>\n",
       "  </tbody>\n",
       "</table>\n",
       "</div>"
      ],
      "text/plain": [
       "          Region  Number_of_Orders  Total_Order_Value  Avg_Order_Value  \\\n",
       "0  NORTH AMERICA             62555            1092029        17.457103   \n",
       "\n",
       "   Avg_Shipping_Cost  \n",
       "0           7.502805  "
      ]
     },
     "metadata": {},
     "output_type": "display_data"
    }
   ],
   "source": [
    "process_message(\"What is the revenue for the region of north america?\")"
   ]
  },
  {
   "cell_type": "code",
   "execution_count": 12,
   "metadata": {},
   "outputs": [
    {
     "name": "stdout",
     "output_type": "stream",
     "text": [
      "\n",
      "Function Name: get_revenue_by_region, Function Args: {}\n",
      "\n"
     ]
    },
    {
     "data": {
      "text/html": [
       "<div>\n",
       "<style scoped>\n",
       "    .dataframe tbody tr th:only-of-type {\n",
       "        vertical-align: middle;\n",
       "    }\n",
       "\n",
       "    .dataframe tbody tr th {\n",
       "        vertical-align: top;\n",
       "    }\n",
       "\n",
       "    .dataframe thead th {\n",
       "        text-align: right;\n",
       "    }\n",
       "</style>\n",
       "<table border=\"1\" class=\"dataframe\">\n",
       "  <thead>\n",
       "    <tr style=\"text-align: right;\">\n",
       "      <th></th>\n",
       "      <th>Region</th>\n",
       "      <th>Number_of_Orders</th>\n",
       "      <th>Total_Order_Value</th>\n",
       "      <th>Avg_Order_Value</th>\n",
       "      <th>Avg_Shipping_Cost</th>\n",
       "    </tr>\n",
       "  </thead>\n",
       "  <tbody>\n",
       "    <tr>\n",
       "      <th>0</th>\n",
       "      <td>AFRICA</td>\n",
       "      <td>61209</td>\n",
       "      <td>1533671</td>\n",
       "      <td>25.056306</td>\n",
       "      <td>7.507702</td>\n",
       "    </tr>\n",
       "    <tr>\n",
       "      <th>1</th>\n",
       "      <td>ASIA-PACIFIC</td>\n",
       "      <td>61337</td>\n",
       "      <td>1344150</td>\n",
       "      <td>21.914194</td>\n",
       "      <td>7.490754</td>\n",
       "    </tr>\n",
       "    <tr>\n",
       "      <th>2</th>\n",
       "      <td>EUROPE</td>\n",
       "      <td>61719</td>\n",
       "      <td>1199818</td>\n",
       "      <td>19.440016</td>\n",
       "      <td>7.502063</td>\n",
       "    </tr>\n",
       "    <tr>\n",
       "      <th>3</th>\n",
       "      <td>MIDDLE EAST</td>\n",
       "      <td>61168</td>\n",
       "      <td>1786876</td>\n",
       "      <td>29.212609</td>\n",
       "      <td>7.502444</td>\n",
       "    </tr>\n",
       "    <tr>\n",
       "      <th>4</th>\n",
       "      <td>NORTH AMERICA</td>\n",
       "      <td>62555</td>\n",
       "      <td>1092029</td>\n",
       "      <td>17.457103</td>\n",
       "      <td>7.502805</td>\n",
       "    </tr>\n",
       "    <tr>\n",
       "      <th>5</th>\n",
       "      <td>SOUTH AMERICA</td>\n",
       "      <td>61193</td>\n",
       "      <td>2147262</td>\n",
       "      <td>35.090006</td>\n",
       "      <td>7.475050</td>\n",
       "    </tr>\n",
       "  </tbody>\n",
       "</table>\n",
       "</div>"
      ],
      "text/plain": [
       "          Region  Number_of_Orders  Total_Order_Value  Avg_Order_Value  \\\n",
       "0         AFRICA             61209            1533671        25.056306   \n",
       "1   ASIA-PACIFIC             61337            1344150        21.914194   \n",
       "2         EUROPE             61719            1199818        19.440016   \n",
       "3    MIDDLE EAST             61168            1786876        29.212609   \n",
       "4  NORTH AMERICA             62555            1092029        17.457103   \n",
       "5  SOUTH AMERICA             61193            2147262        35.090006   \n",
       "\n",
       "   Avg_Shipping_Cost  \n",
       "0           7.507702  \n",
       "1           7.490754  \n",
       "2           7.502063  \n",
       "3           7.502444  \n",
       "4           7.502805  \n",
       "5           7.475050  "
      ]
     },
     "metadata": {},
     "output_type": "display_data"
    }
   ],
   "source": [
    "process_message(\"What is the revenue for all regions?\")"
   ]
  },
  {
   "cell_type": "code",
   "execution_count": 13,
   "metadata": {},
   "outputs": [
    {
     "name": "stdout",
     "output_type": "stream",
     "text": [
      "\n",
      "Function Name: get_sales_by_month, Function Args: {'month': 4}\n",
      "\n"
     ]
    },
    {
     "data": {
      "text/html": [
       "<div>\n",
       "<style scoped>\n",
       "    .dataframe tbody tr th:only-of-type {\n",
       "        vertical-align: middle;\n",
       "    }\n",
       "\n",
       "    .dataframe tbody tr th {\n",
       "        vertical-align: top;\n",
       "    }\n",
       "\n",
       "    .dataframe thead th {\n",
       "        text-align: right;\n",
       "    }\n",
       "</style>\n",
       "<table border=\"1\" class=\"dataframe\">\n",
       "  <thead>\n",
       "    <tr style=\"text-align: right;\">\n",
       "      <th></th>\n",
       "      <th>Revenue</th>\n",
       "      <th>Month</th>\n",
       "      <th>Year</th>\n",
       "    </tr>\n",
       "  </thead>\n",
       "  <tbody>\n",
       "    <tr>\n",
       "      <th>0</th>\n",
       "      <td>542127.134541</td>\n",
       "      <td>4</td>\n",
       "      <td>2023</td>\n",
       "    </tr>\n",
       "    <tr>\n",
       "      <th>1</th>\n",
       "      <td>370041.415045</td>\n",
       "      <td>4</td>\n",
       "      <td>2024</td>\n",
       "    </tr>\n",
       "  </tbody>\n",
       "</table>\n",
       "</div>"
      ],
      "text/plain": [
       "         Revenue  Month  Year\n",
       "0  542127.134541      4  2023\n",
       "1  370041.415045      4  2024"
      ]
     },
     "metadata": {},
     "output_type": "display_data"
    }
   ],
   "source": [
    "process_message(\"What were the sales for April?\")"
   ]
  },
  {
   "cell_type": "code",
   "execution_count": 14,
   "metadata": {},
   "outputs": [
    {
     "data": {
      "text/plain": [
       "\"Response message: For inquiries not related to sales, please contact IT for more assistance. If you have any questions about Contoso's sales data, feel free to ask!\""
      ]
     },
     "metadata": {},
     "output_type": "display_data"
    }
   ],
   "source": [
    "process_message(\"What is the meaning of life?\")"
   ]
  }
 ],
 "metadata": {
  "kernelspec": {
   "display_name": "Python 3 (ipykernel)",
   "language": "python",
   "name": "python3"
  },
  "language_info": {
   "codemirror_mode": {
    "name": "ipython",
    "version": 3
   },
   "file_extension": ".py",
   "mimetype": "text/x-python",
   "name": "python",
   "nbconvert_exporter": "python",
   "pygments_lexer": "ipython3",
   "version": "3.11.9"
  }
 },
 "nbformat": 4,
 "nbformat_minor": 4
}
