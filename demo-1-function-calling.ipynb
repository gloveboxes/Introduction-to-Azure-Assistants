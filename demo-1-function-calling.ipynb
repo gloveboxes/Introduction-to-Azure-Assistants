{
 "cells": [
  {
   "cell_type": "markdown",
   "metadata": {},
   "source": [
    "# Introduction to Azure OpenAI Function Calling\n"
   ]
  },
  {
   "cell_type": "markdown",
   "metadata": {},
   "source": [
    "## Objective\n",
    "\n",
    "This notebook demonstrates the following:\n",
    "\n",
    "1. Generative AI\n",
    "1. Function calling\n"
   ]
  },
  {
   "cell_type": "markdown",
   "metadata": {},
   "source": [
    "## Time\n",
    "\n",
    "You should expect to spend 2 minutes running this sample.\n"
   ]
  },
  {
   "cell_type": "markdown",
   "metadata": {},
   "source": [
    "## About this example\n",
    "\n",
    "The objective of the provided Python file is to learn about Azure OpenAI Function Calling using the Azure OpenAI API.\n"
   ]
  },
  {
   "cell_type": "markdown",
   "metadata": {},
   "source": [
    "## Installation\n",
    "\n",
    "Refer to the README.md file in this folder for installation instructions.\n"
   ]
  },
  {
   "cell_type": "markdown",
   "metadata": {},
   "source": [
    "## Parameters\n"
   ]
  },
  {
   "cell_type": "code",
   "execution_count": 14,
   "metadata": {},
   "outputs": [],
   "source": [
    "import os\n",
    "import json\n",
    "import sqlite3\n",
    "import pandas as pd\n",
    "from openai import AzureOpenAI\n",
    "from dotenv import load_dotenv\n",
    "from IPython.display import display, HTML\n",
    "from typing import Any, Callable, Dict\n",
    "\n",
    "load_dotenv(\".env\")\n",
    "\n",
    "api_endpoint = os.getenv(\"OPENAI_URI\")\n",
    "api_key = os.getenv(\"OPENAI_KEY\")\n",
    "api_version = os.getenv(\"OPENAI_VERSION\")\n",
    "api_deployment_name = os.getenv(\"OPENAI_GPT_DEPLOYMENT\")\n",
    "\n",
    "con = sqlite3.connect(\"./database/order_data.db\")\n",
    "\n",
    "instructions = None"
   ]
  },
  {
   "cell_type": "code",
   "execution_count": 15,
   "metadata": {},
   "outputs": [],
   "source": [
    "def get_revenue_by_region(region: str = None) -> pd.DataFrame:\n",
    "    params = []\n",
    "    query = \"\"\"\n",
    "        SELECT\n",
    "            Region,\n",
    "            SUM(Number_of_Orders) AS Number_of_Orders,\n",
    "            CAST(SUM(Sum_of_Order_Value_USD) AS INTEGER) AS Total_Order_Value,\n",
    "            SUM(Sum_of_Order_Value_USD) / SUM(Number_of_Orders) AS Avg_Order_Value,\n",
    "            SUM(Sum_of_Shipping_Cost_USD) / SUM(Number_of_Orders) AS Avg_Shipping_Cost\n",
    "        FROM order_data\n",
    "    \"\"\"\n",
    "\n",
    "    if region:\n",
    "        query += \"WHERE UPPER(Region) = UPPER(?)\\n\"\n",
    "        params.append(region)\n",
    "\n",
    "    query += \"GROUP BY Region ORDER BY Region\"\n",
    "\n",
    "    return pd.read_sql_query(query, con, params=params)"
   ]
  },
  {
   "cell_type": "code",
   "execution_count": 16,
   "metadata": {},
   "outputs": [],
   "source": [
    "def get_sales_by_month(month: int) -> pd.DataFrame:\n",
    "    query = \"\"\"\n",
    "        SELECT   \n",
    "            SUM(Sum_of_Order_Value_USD) AS Revenue, Month, Year\n",
    "            FROM order_data WHERE Month = ? GROUP BY Month, Year ORDER BY Year, Month\n",
    "    \"\"\"\n",
    "\n",
    "    return pd.read_sql_query(query, con, params=[month])"
   ]
  },
  {
   "cell_type": "markdown",
   "metadata": {},
   "source": [
    "### Create an AzureOpenAI client\n"
   ]
  },
  {
   "cell_type": "code",
   "execution_count": 17,
   "metadata": {},
   "outputs": [],
   "source": [
    "client = AzureOpenAI(\n",
    "    api_key=api_key, api_version=api_version, azure_endpoint=api_endpoint\n",
    ")"
   ]
  },
  {
   "cell_type": "markdown",
   "metadata": {},
   "source": [
    "### Define the Assistant tools\n"
   ]
  },
  {
   "cell_type": "code",
   "execution_count": 18,
   "metadata": {},
   "outputs": [],
   "source": [
    "tools_list = [\n",
    "    {\n",
    "        \"type\": \"function\",\n",
    "        \"function\": {\n",
    "            \"name\": \"get_revenue_by_region\",\n",
    "            \"description\": \"Get the sales revenue for Contoso by region.\",\n",
    "            \"parameters\": {\n",
    "                \"type\": \"object\",\n",
    "                \"properties\": {\n",
    "                    \"region\": {\"type\": \"string\"},\n",
    "                },\n",
    "            },\n",
    "        },\n",
    "    },\n",
    "    {\n",
    "        \"type\": \"function\",\n",
    "        \"function\": {\n",
    "            \"name\": \"get_sales_by_month\",\n",
    "            \"description\": \"Get the Contoso sales by month.\",\n",
    "            \"parameters\": {\n",
    "                \"type\": \"object\",\n",
    "                \"properties\": {\n",
    "                    \"month\": {\n",
    "                        \"type\": \"integer\",\n",
    "                        \"description\": \"The Contoso sales for a specific month.\",\n",
    "                    }\n",
    "                },\n",
    "                \"required\": [\"month\"],\n",
    "            },\n",
    "        },\n",
    "    },\n",
    "]"
   ]
  },
  {
   "cell_type": "markdown",
   "metadata": {},
   "source": [
    "### Process Function calling\n"
   ]
  },
  {
   "cell_type": "code",
   "execution_count": 19,
   "metadata": {},
   "outputs": [],
   "source": [
    "def call_functions(tool_calls) -> None:\n",
    "    function_map: Dict[str, Callable[[Any], pd.DataFrame]] = {\n",
    "        \"get_revenue_by_region\": lambda args: get_revenue_by_region(args.get(\"region\", None)),\n",
    "        \"get_sales_by_month\": lambda args: get_sales_by_month(args[\"month\"])\n",
    "    }\n",
    "\n",
    "    for tool_call in tool_calls:\n",
    "        func_name = tool_call.function.name\n",
    "        arguments = json.loads(tool_call.function.arguments)\n",
    "\n",
    "        # Debugging output\n",
    "        display(HTML(f'<span style=\"color: red;\"><strong>Function Name: {func_name}, Function Args: {arguments}</strong></span>'))\n",
    "\n",
    "        function = function_map.get(func_name)\n",
    "        if not function:\n",
    "            raise ValueError(f\"Unknown function: {func_name}\")\n",
    "        \n",
    "        result_df = function(arguments)\n",
    "        display(result_df)"
   ]
  },
  {
   "cell_type": "markdown",
   "metadata": {},
   "source": [
    "## Instructions for role system assignment\n"
   ]
  },
  {
   "cell_type": "code",
   "execution_count": 20,
   "metadata": {},
   "outputs": [],
   "source": [
    "instructions = (\n",
    "    \"You are a sales analysis assistant for Contoso. \"\n",
    "    \"Please be polite, professional, helpful, and friendly. \"\n",
    "    \"You get all the sales data from this app using the functions provided. \"\n",
    "    \"If a question is not related to sales or you cannot answer the question, \"\n",
    "    \"say, 'contact IT for more assistance.' \"\n",
    "    \"If the user asks for help or says 'help', provide a list of sample questions that you can answer.\"\n",
    ")"
   ]
  },
  {
   "cell_type": "markdown",
   "metadata": {},
   "source": [
    "## Construct the Assistant and send to Azure OpenAI\n"
   ]
  },
  {
   "cell_type": "code",
   "execution_count": 21,
   "metadata": {},
   "outputs": [],
   "source": [
    "def process_message(question: str):\n",
    "\n",
    "    messages = [\n",
    "        {\"role\": \"system\", \"content\": instructions},\n",
    "        {\"role\": \"user\", \"content\": question}\n",
    "    ]\n",
    "\n",
    "    response = client.chat.completions.create(\n",
    "        model=api_deployment_name,\n",
    "        messages=messages,\n",
    "        tools=tools_list,\n",
    "    )\n",
    "\n",
    "    response_message = response.choices[0].message\n",
    "    tool_calls = getattr(response_message, 'tool_calls', [])\n",
    "\n",
    "    if tool_calls:\n",
    "        call_functions(tool_calls)\n",
    "    else:\n",
    "        display(f\"Response message: {response_message.content}\")\n",
    "        return"
   ]
  },
  {
   "cell_type": "code",
   "execution_count": 22,
   "metadata": {},
   "outputs": [
    {
     "data": {
      "text/html": [
       "<span style=\"color: red;\"><strong>Function Name: get_revenue_by_region, Function Args: {'region': 'Africa'}</strong></span>"
      ],
      "text/plain": [
       "<IPython.core.display.HTML object>"
      ]
     },
     "metadata": {},
     "output_type": "display_data"
    },
    {
     "data": {
      "text/html": [
       "<div>\n",
       "<style scoped>\n",
       "    .dataframe tbody tr th:only-of-type {\n",
       "        vertical-align: middle;\n",
       "    }\n",
       "\n",
       "    .dataframe tbody tr th {\n",
       "        vertical-align: top;\n",
       "    }\n",
       "\n",
       "    .dataframe thead th {\n",
       "        text-align: right;\n",
       "    }\n",
       "</style>\n",
       "<table border=\"1\" class=\"dataframe\">\n",
       "  <thead>\n",
       "    <tr style=\"text-align: right;\">\n",
       "      <th></th>\n",
       "      <th>Region</th>\n",
       "      <th>Number_of_Orders</th>\n",
       "      <th>Total_Order_Value</th>\n",
       "      <th>Avg_Order_Value</th>\n",
       "      <th>Avg_Shipping_Cost</th>\n",
       "    </tr>\n",
       "  </thead>\n",
       "  <tbody>\n",
       "    <tr>\n",
       "      <th>0</th>\n",
       "      <td>AFRICA</td>\n",
       "      <td>61209</td>\n",
       "      <td>1533671</td>\n",
       "      <td>25.056306</td>\n",
       "      <td>7.507702</td>\n",
       "    </tr>\n",
       "  </tbody>\n",
       "</table>\n",
       "</div>"
      ],
      "text/plain": [
       "   Region  Number_of_Orders  Total_Order_Value  Avg_Order_Value  \\\n",
       "0  AFRICA             61209            1533671        25.056306   \n",
       "\n",
       "   Avg_Shipping_Cost  \n",
       "0           7.507702  "
      ]
     },
     "metadata": {},
     "output_type": "display_data"
    }
   ],
   "source": [
    "process_message(\"What is the revenue for the region of Africa?\")"
   ]
  },
  {
   "cell_type": "code",
   "execution_count": 23,
   "metadata": {},
   "outputs": [
    {
     "data": {
      "text/html": [
       "<span style=\"color: red;\"><strong>Function Name: get_revenue_by_region, Function Args: {'region': 'north america'}</strong></span>"
      ],
      "text/plain": [
       "<IPython.core.display.HTML object>"
      ]
     },
     "metadata": {},
     "output_type": "display_data"
    },
    {
     "data": {
      "text/html": [
       "<div>\n",
       "<style scoped>\n",
       "    .dataframe tbody tr th:only-of-type {\n",
       "        vertical-align: middle;\n",
       "    }\n",
       "\n",
       "    .dataframe tbody tr th {\n",
       "        vertical-align: top;\n",
       "    }\n",
       "\n",
       "    .dataframe thead th {\n",
       "        text-align: right;\n",
       "    }\n",
       "</style>\n",
       "<table border=\"1\" class=\"dataframe\">\n",
       "  <thead>\n",
       "    <tr style=\"text-align: right;\">\n",
       "      <th></th>\n",
       "      <th>Region</th>\n",
       "      <th>Number_of_Orders</th>\n",
       "      <th>Total_Order_Value</th>\n",
       "      <th>Avg_Order_Value</th>\n",
       "      <th>Avg_Shipping_Cost</th>\n",
       "    </tr>\n",
       "  </thead>\n",
       "  <tbody>\n",
       "    <tr>\n",
       "      <th>0</th>\n",
       "      <td>NORTH AMERICA</td>\n",
       "      <td>62555</td>\n",
       "      <td>1092029</td>\n",
       "      <td>17.457103</td>\n",
       "      <td>7.502805</td>\n",
       "    </tr>\n",
       "  </tbody>\n",
       "</table>\n",
       "</div>"
      ],
      "text/plain": [
       "          Region  Number_of_Orders  Total_Order_Value  Avg_Order_Value  \\\n",
       "0  NORTH AMERICA             62555            1092029        17.457103   \n",
       "\n",
       "   Avg_Shipping_Cost  \n",
       "0           7.502805  "
      ]
     },
     "metadata": {},
     "output_type": "display_data"
    }
   ],
   "source": [
    "process_message(\"What is the revenue for the region of north america?\")"
   ]
  },
  {
   "cell_type": "code",
   "execution_count": 24,
   "metadata": {},
   "outputs": [
    {
     "data": {
      "text/html": [
       "<span style=\"color: red;\"><strong>Function Name: get_revenue_by_region, Function Args: {}</strong></span>"
      ],
      "text/plain": [
       "<IPython.core.display.HTML object>"
      ]
     },
     "metadata": {},
     "output_type": "display_data"
    },
    {
     "data": {
      "text/html": [
       "<div>\n",
       "<style scoped>\n",
       "    .dataframe tbody tr th:only-of-type {\n",
       "        vertical-align: middle;\n",
       "    }\n",
       "\n",
       "    .dataframe tbody tr th {\n",
       "        vertical-align: top;\n",
       "    }\n",
       "\n",
       "    .dataframe thead th {\n",
       "        text-align: right;\n",
       "    }\n",
       "</style>\n",
       "<table border=\"1\" class=\"dataframe\">\n",
       "  <thead>\n",
       "    <tr style=\"text-align: right;\">\n",
       "      <th></th>\n",
       "      <th>Region</th>\n",
       "      <th>Number_of_Orders</th>\n",
       "      <th>Total_Order_Value</th>\n",
       "      <th>Avg_Order_Value</th>\n",
       "      <th>Avg_Shipping_Cost</th>\n",
       "    </tr>\n",
       "  </thead>\n",
       "  <tbody>\n",
       "    <tr>\n",
       "      <th>0</th>\n",
       "      <td>AFRICA</td>\n",
       "      <td>61209</td>\n",
       "      <td>1533671</td>\n",
       "      <td>25.056306</td>\n",
       "      <td>7.507702</td>\n",
       "    </tr>\n",
       "    <tr>\n",
       "      <th>1</th>\n",
       "      <td>ASIA-PACIFIC</td>\n",
       "      <td>61337</td>\n",
       "      <td>1344150</td>\n",
       "      <td>21.914194</td>\n",
       "      <td>7.490754</td>\n",
       "    </tr>\n",
       "    <tr>\n",
       "      <th>2</th>\n",
       "      <td>EUROPE</td>\n",
       "      <td>61719</td>\n",
       "      <td>1199818</td>\n",
       "      <td>19.440016</td>\n",
       "      <td>7.502063</td>\n",
       "    </tr>\n",
       "    <tr>\n",
       "      <th>3</th>\n",
       "      <td>MIDDLE EAST</td>\n",
       "      <td>61168</td>\n",
       "      <td>1786876</td>\n",
       "      <td>29.212609</td>\n",
       "      <td>7.502444</td>\n",
       "    </tr>\n",
       "    <tr>\n",
       "      <th>4</th>\n",
       "      <td>NORTH AMERICA</td>\n",
       "      <td>62555</td>\n",
       "      <td>1092029</td>\n",
       "      <td>17.457103</td>\n",
       "      <td>7.502805</td>\n",
       "    </tr>\n",
       "    <tr>\n",
       "      <th>5</th>\n",
       "      <td>SOUTH AMERICA</td>\n",
       "      <td>61193</td>\n",
       "      <td>2147262</td>\n",
       "      <td>35.090006</td>\n",
       "      <td>7.475050</td>\n",
       "    </tr>\n",
       "  </tbody>\n",
       "</table>\n",
       "</div>"
      ],
      "text/plain": [
       "          Region  Number_of_Orders  Total_Order_Value  Avg_Order_Value  \\\n",
       "0         AFRICA             61209            1533671        25.056306   \n",
       "1   ASIA-PACIFIC             61337            1344150        21.914194   \n",
       "2         EUROPE             61719            1199818        19.440016   \n",
       "3    MIDDLE EAST             61168            1786876        29.212609   \n",
       "4  NORTH AMERICA             62555            1092029        17.457103   \n",
       "5  SOUTH AMERICA             61193            2147262        35.090006   \n",
       "\n",
       "   Avg_Shipping_Cost  \n",
       "0           7.507702  \n",
       "1           7.490754  \n",
       "2           7.502063  \n",
       "3           7.502444  \n",
       "4           7.502805  \n",
       "5           7.475050  "
      ]
     },
     "metadata": {},
     "output_type": "display_data"
    }
   ],
   "source": [
    "process_message(\"What is the revenue for all regions?\")"
   ]
  },
  {
   "cell_type": "code",
   "execution_count": 25,
   "metadata": {},
   "outputs": [
    {
     "data": {
      "text/html": [
       "<span style=\"color: red;\"><strong>Function Name: get_sales_by_month, Function Args: {'month': 4}</strong></span>"
      ],
      "text/plain": [
       "<IPython.core.display.HTML object>"
      ]
     },
     "metadata": {},
     "output_type": "display_data"
    },
    {
     "data": {
      "text/html": [
       "<div>\n",
       "<style scoped>\n",
       "    .dataframe tbody tr th:only-of-type {\n",
       "        vertical-align: middle;\n",
       "    }\n",
       "\n",
       "    .dataframe tbody tr th {\n",
       "        vertical-align: top;\n",
       "    }\n",
       "\n",
       "    .dataframe thead th {\n",
       "        text-align: right;\n",
       "    }\n",
       "</style>\n",
       "<table border=\"1\" class=\"dataframe\">\n",
       "  <thead>\n",
       "    <tr style=\"text-align: right;\">\n",
       "      <th></th>\n",
       "      <th>Revenue</th>\n",
       "      <th>Month</th>\n",
       "      <th>Year</th>\n",
       "    </tr>\n",
       "  </thead>\n",
       "  <tbody>\n",
       "    <tr>\n",
       "      <th>0</th>\n",
       "      <td>542127.134541</td>\n",
       "      <td>4</td>\n",
       "      <td>2023</td>\n",
       "    </tr>\n",
       "    <tr>\n",
       "      <th>1</th>\n",
       "      <td>370041.415045</td>\n",
       "      <td>4</td>\n",
       "      <td>2024</td>\n",
       "    </tr>\n",
       "  </tbody>\n",
       "</table>\n",
       "</div>"
      ],
      "text/plain": [
       "         Revenue  Month  Year\n",
       "0  542127.134541      4  2023\n",
       "1  370041.415045      4  2024"
      ]
     },
     "metadata": {},
     "output_type": "display_data"
    }
   ],
   "source": [
    "process_message(\"What were the sales for April?\")"
   ]
  },
  {
   "cell_type": "code",
   "execution_count": 26,
   "metadata": {},
   "outputs": [
    {
     "data": {
      "text/plain": [
       "\"Response message: For philosophical or existential questions like this, it's best to explore personal and philosophical perspectives, or perhaps contact a philosophical or mental health professional. For assistance with sales data, feel free to ask me specific questions about Contoso's sales.\""
      ]
     },
     "metadata": {},
     "output_type": "display_data"
    }
   ],
   "source": [
    "process_message(\"What is the meaning of life?\")"
   ]
  },
  {
   "cell_type": "markdown",
   "metadata": {},
   "source": []
  }
 ],
 "metadata": {
  "kernelspec": {
   "display_name": "Python 3 (ipykernel)",
   "language": "python",
   "name": "python3"
  },
  "language_info": {
   "codemirror_mode": {
    "name": "ipython",
    "version": 3
   },
   "file_extension": ".py",
   "mimetype": "text/x-python",
   "name": "python",
   "nbconvert_exporter": "python",
   "pygments_lexer": "ipython3",
   "version": "3.11.9"
  }
 },
 "nbformat": 4,
 "nbformat_minor": 4
}
