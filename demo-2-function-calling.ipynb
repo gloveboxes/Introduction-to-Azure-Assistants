{
 "cells": [
  {
   "cell_type": "markdown",
   "metadata": {},
   "source": [
    "# Introduction to Azure OpenAI Function Calling\n"
   ]
  },
  {
   "cell_type": "markdown",
   "metadata": {},
   "source": [
    "## Objective\n",
    "\n",
    "This notebook demonstrates the following:\n",
    "\n",
    "1. Generative AI\n",
    "1. Function calling\n"
   ]
  },
  {
   "cell_type": "markdown",
   "metadata": {},
   "source": [
    "## Time\n",
    "\n",
    "You should expect to spend 2 minutes running this sample.\n"
   ]
  },
  {
   "cell_type": "markdown",
   "metadata": {},
   "source": [
    "## About this example\n",
    "\n",
    "The objective of the provided Python file is to learn about Azure OpenAI Function Calling using the Azure OpenAI API.\n"
   ]
  },
  {
   "cell_type": "markdown",
   "metadata": {},
   "source": [
    "## Installation\n",
    "\n",
    "Refer to the README.md file in this folder for installation instructions.\n"
   ]
  },
  {
   "cell_type": "markdown",
   "metadata": {},
   "source": [
    "## Parameters\n"
   ]
  },
  {
   "cell_type": "code",
   "execution_count": 1,
   "metadata": {},
   "outputs": [],
   "source": [
    "import os\n",
    "import json\n",
    "import sqlite3\n",
    "import pandas as pd\n",
    "from openai import AzureOpenAI\n",
    "from dotenv import load_dotenv\n",
    "from IPython.display import display, HTML\n",
    "from typing import Any, Callable, Dict\n",
    "\n",
    "load_dotenv(\".env\")\n",
    "\n",
    "api_endpoint = os.getenv(\"OPENAI_URI\")\n",
    "api_key = os.getenv(\"OPENAI_KEY\")\n",
    "api_version = os.getenv(\"OPENAI_VERSION\")\n",
    "api_deployment_name = os.getenv(\"OPENAI_GPT_DEPLOYMENT\")\n",
    "\n",
    "con = sqlite3.connect(\"./database/contoso-sales.db\")\n",
    "\n",
    "instructions = None"
   ]
  },
  {
   "cell_type": "code",
   "execution_count": 2,
   "metadata": {},
   "outputs": [],
   "source": [
    "def log_message(message: str):\n",
    "    display(HTML(f'<span style=\"color: red;\"><strong>{message}</strong></span>'))"
   ]
  },
  {
   "cell_type": "code",
   "execution_count": 3,
   "metadata": {},
   "outputs": [],
   "source": [
    "def display_wrapped(message: str):\n",
    "    wrapped_content = f'<pre style=\"white-space: pre-wrap; word-wrap: break-word;\">{message}</pre>'\n",
    "    display(HTML(wrapped_content))"
   ]
  },
  {
   "cell_type": "code",
   "execution_count": 4,
   "metadata": {},
   "outputs": [],
   "source": [
    "def get_revenue_by_region(region: str = None) -> pd.DataFrame:\n",
    "    params = []\n",
    "    query = \"\"\"\n",
    "        SELECT\n",
    "            region as Region,\n",
    "            SUM(number_of_orders) AS Orders,\n",
    "            SUM(revenue) AS  Revenue,\n",
    "            SUM(discount) AS Discount\n",
    "        FROM sales_data\n",
    "    \"\"\"\n",
    "\n",
    "    if region:\n",
    "        query += \"WHERE UPPER(Region) = UPPER(?)\\n\"\n",
    "        params.append(region)\n",
    "\n",
    "    query += \"GROUP BY Region ORDER BY Region\"\n",
    "\n",
    "    return pd.read_sql_query(query, con, params=params)"
   ]
  },
  {
   "cell_type": "code",
   "execution_count": 5,
   "metadata": {},
   "outputs": [],
   "source": [
    "def get_sales_by_month(month: int) -> pd.DataFrame:\n",
    "    query = \"\"\"\n",
    "        SELECT   \n",
    "            SUM(revenue) AS Revenue, \n",
    "            year || '-' || CASE \n",
    "                WHEN month < 10 THEN '0' || month \n",
    "                ELSE month \n",
    "                END AS Month\n",
    "        FROM sales_data \n",
    "        WHERE Month = ? \n",
    "        GROUP BY Month, Year \n",
    "        ORDER BY Year, Month\n",
    "    \"\"\"\n",
    "\n",
    "    return pd.read_sql_query(query, con, params=[month])"
   ]
  },
  {
   "cell_type": "markdown",
   "metadata": {},
   "source": [
    "### Create an AzureOpenAI client\n"
   ]
  },
  {
   "cell_type": "code",
   "execution_count": 6,
   "metadata": {},
   "outputs": [],
   "source": [
    "client = AzureOpenAI(api_key=api_key, api_version=api_version, azure_endpoint=api_endpoint)"
   ]
  },
  {
   "cell_type": "markdown",
   "metadata": {},
   "source": [
    "### Define the Assistant tools\n"
   ]
  },
  {
   "cell_type": "code",
   "execution_count": 7,
   "metadata": {},
   "outputs": [],
   "source": [
    "tools_list = [\n",
    "    {\n",
    "        \"type\": \"function\",\n",
    "        \"function\": {\n",
    "            \"name\": \"get_revenue_by_region\",\n",
    "            \"description\": \"Get the sales revenue for Contoso by region.\",\n",
    "            \"parameters\": {\n",
    "                \"type\": \"object\",\n",
    "                \"properties\": {\n",
    "                    \"region\": {\"type\": \"string\"},\n",
    "                },\n",
    "            },\n",
    "        },\n",
    "    },\n",
    "    {\n",
    "        \"type\": \"function\",\n",
    "        \"function\": {\n",
    "            \"name\": \"get_sales_by_month\",\n",
    "            \"description\": \"Get the Contoso sales by month.\",\n",
    "            \"parameters\": {\n",
    "                \"type\": \"object\",\n",
    "                \"properties\": {\n",
    "                    \"month\": {\n",
    "                        \"type\": \"integer\",\n",
    "                        \"description\": \"The Contoso sales for a specific month.\",\n",
    "                    }\n",
    "                },\n",
    "                \"required\": [\"month\"],\n",
    "            },\n",
    "        },\n",
    "    },\n",
    "]"
   ]
  },
  {
   "cell_type": "markdown",
   "metadata": {},
   "source": [
    "### Process Function calling\n"
   ]
  },
  {
   "cell_type": "code",
   "execution_count": 8,
   "metadata": {},
   "outputs": [],
   "source": [
    "def call_functions(tool_calls) -> None:\n",
    "    function_map: Dict[str, Callable[[Any], pd.DataFrame]] = {\n",
    "        \"get_revenue_by_region\": lambda args: get_revenue_by_region(args.get(\"region\", None)),\n",
    "        \"get_sales_by_month\": lambda args: get_sales_by_month(args[\"month\"]),\n",
    "    }\n",
    "\n",
    "    for tool_call in tool_calls:\n",
    "        func_name = tool_call.function.name\n",
    "        arguments = json.loads(tool_call.function.arguments)\n",
    "\n",
    "        log_message(f\"Function Name: {func_name}, Function Args: {arguments}\")\n",
    "\n",
    "        function = function_map.get(func_name)\n",
    "        if not function:\n",
    "            raise ValueError(f\"Unknown function: {func_name}\")\n",
    "\n",
    "        result_df = function(arguments)\n",
    "        display(result_df)"
   ]
  },
  {
   "cell_type": "markdown",
   "metadata": {},
   "source": [
    "## Instructions for role system assignment\n"
   ]
  },
  {
   "cell_type": "code",
   "execution_count": 9,
   "metadata": {},
   "outputs": [],
   "source": [
    "instructions = (\n",
    "    \"You are a sales analysis assistant for Contoso. \"\n",
    "    \"Please be polite, professional, helpful, and friendly. \"\n",
    "    \"You get all the sales data from this app using the functions provided. \"\n",
    "    \"If a question is not related to sales or you cannot answer the question, \"\n",
    "    \"say, 'contact IT for more assistance.' \"\n",
    "    \"If the user asks for help or says 'help', provide a list of sample questions that you can answer.\"\n",
    ")"
   ]
  },
  {
   "cell_type": "markdown",
   "metadata": {},
   "source": [
    "## Construct the Assistant and send to Azure OpenAI\n"
   ]
  },
  {
   "cell_type": "code",
   "execution_count": 10,
   "metadata": {},
   "outputs": [],
   "source": [
    "def process_message(question: str):\n",
    "\n",
    "    messages = [{\"role\": \"system\", \"content\": instructions}, {\"role\": \"user\", \"content\": question}]\n",
    "\n",
    "    response = client.chat.completions.create(\n",
    "        model=api_deployment_name,\n",
    "        messages=messages,\n",
    "        tools=tools_list,\n",
    "    )\n",
    "\n",
    "    response_message = response.choices[0].message\n",
    "    tool_calls = getattr(response_message, \"tool_calls\", [])\n",
    "\n",
    "    if tool_calls:\n",
    "        call_functions(tool_calls)\n",
    "    else:\n",
    "        display_wrapped(response_message.content)"
   ]
  },
  {
   "cell_type": "code",
   "execution_count": 11,
   "metadata": {},
   "outputs": [
    {
     "data": {
      "text/html": [
       "<span style=\"color: red;\"><strong>Function Name: get_revenue_by_region, Function Args: {'region': 'Africa'}</strong></span>"
      ],
      "text/plain": [
       "<IPython.core.display.HTML object>"
      ]
     },
     "metadata": {},
     "output_type": "display_data"
    },
    {
     "data": {
      "text/html": [
       "<div>\n",
       "<style scoped>\n",
       "    .dataframe tbody tr th:only-of-type {\n",
       "        vertical-align: middle;\n",
       "    }\n",
       "\n",
       "    .dataframe tbody tr th {\n",
       "        vertical-align: top;\n",
       "    }\n",
       "\n",
       "    .dataframe thead th {\n",
       "        text-align: right;\n",
       "    }\n",
       "</style>\n",
       "<table border=\"1\" class=\"dataframe\">\n",
       "  <thead>\n",
       "    <tr style=\"text-align: right;\">\n",
       "      <th></th>\n",
       "      <th>Region</th>\n",
       "      <th>Orders</th>\n",
       "      <th>Revenue</th>\n",
       "      <th>Discount</th>\n",
       "    </tr>\n",
       "  </thead>\n",
       "  <tbody>\n",
       "    <tr>\n",
       "      <th>0</th>\n",
       "      <td>AFRICA</td>\n",
       "      <td>2948</td>\n",
       "      <td>378710.0</td>\n",
       "      <td>26352.1</td>\n",
       "    </tr>\n",
       "  </tbody>\n",
       "</table>\n",
       "</div>"
      ],
      "text/plain": [
       "   Region  Orders   Revenue  Discount\n",
       "0  AFRICA    2948  378710.0   26352.1"
      ]
     },
     "metadata": {},
     "output_type": "display_data"
    }
   ],
   "source": [
    "process_message(\"What is the revenue for the region of Africa?\")"
   ]
  },
  {
   "cell_type": "code",
   "execution_count": 12,
   "metadata": {},
   "outputs": [
    {
     "data": {
      "text/html": [
       "<span style=\"color: red;\"><strong>Function Name: get_revenue_by_region, Function Args: {'region': 'north america'}</strong></span>"
      ],
      "text/plain": [
       "<IPython.core.display.HTML object>"
      ]
     },
     "metadata": {},
     "output_type": "display_data"
    },
    {
     "data": {
      "text/html": [
       "<div>\n",
       "<style scoped>\n",
       "    .dataframe tbody tr th:only-of-type {\n",
       "        vertical-align: middle;\n",
       "    }\n",
       "\n",
       "    .dataframe tbody tr th {\n",
       "        vertical-align: top;\n",
       "    }\n",
       "\n",
       "    .dataframe thead th {\n",
       "        text-align: right;\n",
       "    }\n",
       "</style>\n",
       "<table border=\"1\" class=\"dataframe\">\n",
       "  <thead>\n",
       "    <tr style=\"text-align: right;\">\n",
       "      <th></th>\n",
       "      <th>Region</th>\n",
       "      <th>Orders</th>\n",
       "      <th>Revenue</th>\n",
       "      <th>Discount</th>\n",
       "    </tr>\n",
       "  </thead>\n",
       "  <tbody>\n",
       "    <tr>\n",
       "      <th>0</th>\n",
       "      <td>NORTH AMERICA</td>\n",
       "      <td>3220</td>\n",
       "      <td>458770.0</td>\n",
       "      <td>30409.64</td>\n",
       "    </tr>\n",
       "  </tbody>\n",
       "</table>\n",
       "</div>"
      ],
      "text/plain": [
       "          Region  Orders   Revenue  Discount\n",
       "0  NORTH AMERICA    3220  458770.0  30409.64"
      ]
     },
     "metadata": {},
     "output_type": "display_data"
    }
   ],
   "source": [
    "process_message(\"What is the revenue for the region of north america?\")"
   ]
  },
  {
   "cell_type": "code",
   "execution_count": 13,
   "metadata": {},
   "outputs": [
    {
     "data": {
      "text/html": [
       "<span style=\"color: red;\"><strong>Function Name: get_revenue_by_region, Function Args: {}</strong></span>"
      ],
      "text/plain": [
       "<IPython.core.display.HTML object>"
      ]
     },
     "metadata": {},
     "output_type": "display_data"
    },
    {
     "data": {
      "text/html": [
       "<div>\n",
       "<style scoped>\n",
       "    .dataframe tbody tr th:only-of-type {\n",
       "        vertical-align: middle;\n",
       "    }\n",
       "\n",
       "    .dataframe tbody tr th {\n",
       "        vertical-align: top;\n",
       "    }\n",
       "\n",
       "    .dataframe thead th {\n",
       "        text-align: right;\n",
       "    }\n",
       "</style>\n",
       "<table border=\"1\" class=\"dataframe\">\n",
       "  <thead>\n",
       "    <tr style=\"text-align: right;\">\n",
       "      <th></th>\n",
       "      <th>Region</th>\n",
       "      <th>Orders</th>\n",
       "      <th>Revenue</th>\n",
       "      <th>Discount</th>\n",
       "    </tr>\n",
       "  </thead>\n",
       "  <tbody>\n",
       "    <tr>\n",
       "      <th>0</th>\n",
       "      <td>AFRICA</td>\n",
       "      <td>2948</td>\n",
       "      <td>378710.0</td>\n",
       "      <td>26352.10</td>\n",
       "    </tr>\n",
       "    <tr>\n",
       "      <th>1</th>\n",
       "      <td>ASIA-PACIFIC</td>\n",
       "      <td>3480</td>\n",
       "      <td>485514.0</td>\n",
       "      <td>43108.78</td>\n",
       "    </tr>\n",
       "    <tr>\n",
       "      <th>2</th>\n",
       "      <td>EUROPE</td>\n",
       "      <td>3736</td>\n",
       "      <td>599380.0</td>\n",
       "      <td>48349.88</td>\n",
       "    </tr>\n",
       "    <tr>\n",
       "      <th>3</th>\n",
       "      <td>LATIN AMERICA</td>\n",
       "      <td>3768</td>\n",
       "      <td>343626.0</td>\n",
       "      <td>27196.82</td>\n",
       "    </tr>\n",
       "    <tr>\n",
       "      <th>4</th>\n",
       "      <td>MIDDLE EAST</td>\n",
       "      <td>3814</td>\n",
       "      <td>507112.0</td>\n",
       "      <td>34766.32</td>\n",
       "    </tr>\n",
       "    <tr>\n",
       "      <th>5</th>\n",
       "      <td>NORTH AMERICA</td>\n",
       "      <td>3220</td>\n",
       "      <td>458770.0</td>\n",
       "      <td>30409.64</td>\n",
       "    </tr>\n",
       "  </tbody>\n",
       "</table>\n",
       "</div>"
      ],
      "text/plain": [
       "          Region  Orders   Revenue  Discount\n",
       "0         AFRICA    2948  378710.0  26352.10\n",
       "1   ASIA-PACIFIC    3480  485514.0  43108.78\n",
       "2         EUROPE    3736  599380.0  48349.88\n",
       "3  LATIN AMERICA    3768  343626.0  27196.82\n",
       "4    MIDDLE EAST    3814  507112.0  34766.32\n",
       "5  NORTH AMERICA    3220  458770.0  30409.64"
      ]
     },
     "metadata": {},
     "output_type": "display_data"
    }
   ],
   "source": [
    "process_message(\"What is the revenue for all regions?\")"
   ]
  },
  {
   "cell_type": "code",
   "execution_count": 14,
   "metadata": {},
   "outputs": [
    {
     "data": {
      "text/html": [
       "<span style=\"color: red;\"><strong>Function Name: get_sales_by_month, Function Args: {'month': 4}</strong></span>"
      ],
      "text/plain": [
       "<IPython.core.display.HTML object>"
      ]
     },
     "metadata": {},
     "output_type": "display_data"
    },
    {
     "data": {
      "text/html": [
       "<div>\n",
       "<style scoped>\n",
       "    .dataframe tbody tr th:only-of-type {\n",
       "        vertical-align: middle;\n",
       "    }\n",
       "\n",
       "    .dataframe tbody tr th {\n",
       "        vertical-align: top;\n",
       "    }\n",
       "\n",
       "    .dataframe thead th {\n",
       "        text-align: right;\n",
       "    }\n",
       "</style>\n",
       "<table border=\"1\" class=\"dataframe\">\n",
       "  <thead>\n",
       "    <tr style=\"text-align: right;\">\n",
       "      <th></th>\n",
       "      <th>Revenue</th>\n",
       "      <th>Month</th>\n",
       "    </tr>\n",
       "  </thead>\n",
       "  <tbody>\n",
       "    <tr>\n",
       "      <th>0</th>\n",
       "      <td>26854.0</td>\n",
       "      <td>2021-04</td>\n",
       "    </tr>\n",
       "    <tr>\n",
       "      <th>1</th>\n",
       "      <td>41956.0</td>\n",
       "      <td>2022-04</td>\n",
       "    </tr>\n",
       "    <tr>\n",
       "      <th>2</th>\n",
       "      <td>103554.0</td>\n",
       "      <td>2023-04</td>\n",
       "    </tr>\n",
       "    <tr>\n",
       "      <th>3</th>\n",
       "      <td>74410.0</td>\n",
       "      <td>2024-04</td>\n",
       "    </tr>\n",
       "  </tbody>\n",
       "</table>\n",
       "</div>"
      ],
      "text/plain": [
       "    Revenue    Month\n",
       "0   26854.0  2021-04\n",
       "1   41956.0  2022-04\n",
       "2  103554.0  2023-04\n",
       "3   74410.0  2024-04"
      ]
     },
     "metadata": {},
     "output_type": "display_data"
    }
   ],
   "source": [
    "process_message(\"What were the sales for April?\")"
   ]
  },
  {
   "cell_type": "code",
   "execution_count": 15,
   "metadata": {},
   "outputs": [
    {
     "data": {
      "text/html": [
       "<pre style=\"white-space: pre-wrap; word-wrap: break-word;\">It seems like you're asking a philosophical question. For questions related to sales, revenue, or anything specific to Contoso's data, please let me know how I can assist you, or contact IT for more assistance.</pre>"
      ],
      "text/plain": [
       "<IPython.core.display.HTML object>"
      ]
     },
     "metadata": {},
     "output_type": "display_data"
    }
   ],
   "source": [
    "process_message(\"What is the meaning of life?\")"
   ]
  },
  {
   "cell_type": "markdown",
   "metadata": {},
   "source": []
  }
 ],
 "metadata": {
  "kernelspec": {
   "display_name": "Python 3 (ipykernel)",
   "language": "python",
   "name": "python3"
  },
  "language_info": {
   "codemirror_mode": {
    "name": "ipython",
    "version": 3
   },
   "file_extension": ".py",
   "mimetype": "text/x-python",
   "name": "python",
   "nbconvert_exporter": "python",
   "pygments_lexer": "ipython3",
   "version": "3.11.9"
  }
 },
 "nbformat": 4,
 "nbformat_minor": 4
}
