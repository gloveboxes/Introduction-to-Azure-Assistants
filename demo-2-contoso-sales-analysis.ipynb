{
 "cells": [
  {
   "cell_type": "markdown",
   "metadata": {},
   "source": [
    "# Contoso Sales Analysis Assistant"
   ]
  },
  {
   "cell_type": "markdown",
   "metadata": {},
   "source": []
  },
  {
   "cell_type": "markdown",
   "metadata": {},
   "source": [
    "## Why use the OpenAI Assistants API\n",
    "\n",
    "The OpenAI Assistants API allows you to build conversational agents that can understand and respond to user inputs. You can use the API to automate tasks, provide information, or guide users through a process.\n",
    "\n",
    "The Assistants API is not the only way to build conversational agents, but it offers several advantages:\n",
    "\n",
    "1. Simplicity: The API abstracts away the complexity of building a conversational agent, allowing you to focus on the content and logic of the conversation.\n",
    "2. Scalability: The API is designed to handle a large number of concurrent users, making it suitable for production use.\n",
    "3. Customization: The API allows you to customize the behavior of the assistant by providing training data and defining conversational flows.\n",
    "4. Integration: The API can be integrated with other services and systems, allowing you to build assistants that interact with external data sources."
   ]
  },
  {
   "cell_type": "markdown",
   "metadata": {},
   "source": [
    "## Core concepts\n",
    "\n",
    "The OpenAI Assistants API is based on a few core concepts that you need to understand in order to build conversational agents:\n",
    "\n",
    "### Conversational agents\n",
    "\n",
    "A conversational agent is a computer program that can interact with users in a natural language. The agent can understand user inputs, generate responses, and maintain a context of the conversation.\n",
    "\n",
    "### Conversational flows\n",
    "\n",
    "A conversational flow is a sequence of interactions between the user and the assistant. The flow can include questions, prompts, and responses that guide the user through a process or provide information.\n",
    "\n",
    "### The Assistant object\n",
    "\n",
    "The Assistant object is the main interface for interacting with the Assistants API. You can create an Assistant object by providing your API key and the ID of the assistant you want to use.\n",
    "\n",
    "### The Thread object\n",
    "\n",
    "The Thread object represents a conversation thread between the user and the assistant.\n",
    "\n",
    "### Function calling\n",
    "\n",
    "The Assistants API allows you to define custom functions that can be called from within the conversation. These functions can perform tasks, retrieve data, or interact with external services.\n",
    "\n",
    "### Code Generation\n",
    "\n",
    "The Assistants API can generate Python code to be executed in a sandboxed environment. This code can be used to define custom functions, manipulate data, or perform calculations. The generated code is executed in a secure environment to prevent malicious behavior."
   ]
  },
  {
   "cell_type": "markdown",
   "metadata": {},
   "source": [
    "## Objective\n",
    "\n",
    "This notebook demonstrates the following:\n",
    "\n",
    "1. Generative AI\n",
    "1. Function calling\n",
    "1. Code Generation\n",
    "\n",
    "Reference:\n",
    "- Learn more about how to use Assistants with our [How-to guide on Assistants](https://learn.microsoft.com/en-us/azure/ai-services/openai/how-to/assistant)\n",
    "- [Assistants OpenAI Overview](https://platform.openai.com/docs/assistants/overview) \n",
    "\n",
    "<!-- - Function Calling with Yfinance to get latest stock prices. Summarization of user provided article. Extract country info from article, extract country, capital and other aspects, and call an API to get more information about each country.\n",
    "\n",
    "This tutorial uses the following Azure AI services:\n",
    "- Access to Azure OpenAI Service - you can apply for access [here](https://aka.ms/oai/access)\n",
    "- Azure OpenAI service - you can create it from instructions [here](https://learn.microsoft.com/en-us/azure/ai-services/openai/how-to/create-resource)\n",
    "- Azure OpenAI Studio - go to [https://oai.azure.com/](https://oai.azure.com/) to work with the Assistants API Playground\n",
    "- A connection to the Azure OpenAI Service with a [Key and Endpoint](https://learn.microsoft.com/en-us/azure/ai-services/openai/chatgpt-quickstart)\n",
    "\n",
    "-->"
   ]
  },
  {
   "cell_type": "markdown",
   "metadata": {},
   "source": [
    "## Time\n",
    "\n",
    "You should expect to spend 10-15 minutes running this sample. "
   ]
  },
  {
   "cell_type": "markdown",
   "metadata": {},
   "source": [
    "## About this example\n",
    "\n",
    "The objective of the provided Python file is to create an Azure OpenAI Assistant named \"Contoso Sales Analysis Assistant\" using the Azure OpenAI API. The assistant is designed to act as a sales analysis assistant, providing information and insights related to the contoso business sales. The script initiates a conversation with the assistant, guiding it through various financial queries and scenarios to showcase its capabilities.\n",
    "\n",
    "### Data\n",
    "This sample uses files from the folder [`data/`](./data/) in this repo. You can clone this repo or copy this folder to make sure you have access to these files when running the sample.\n",
    "\n"
   ]
  },
  {
   "cell_type": "markdown",
   "metadata": {},
   "source": [
    "## Installation\n",
    "\n",
    "Refer to the README.md file in this folder for installation instructions."
   ]
  },
  {
   "cell_type": "code",
   "execution_count": null,
   "metadata": {},
   "outputs": [],
   "source": [
    "# Install the packages\n",
    "%pip install -r requirements.txt"
   ]
  },
  {
   "cell_type": "markdown",
   "metadata": {},
   "source": [
    "## Parameters"
   ]
  },
  {
   "cell_type": "code",
   "execution_count": null,
   "metadata": {},
   "outputs": [],
   "source": [
    "import os\n",
    "from dotenv import load_dotenv\n",
    "\n",
    "load_dotenv(\".env\")\n",
    "api_endpoint = os.getenv(\"OPENAI_URI\")\n",
    "api_key = os.getenv(\"OPENAI_KEY\")\n",
    "api_version = os.getenv(\"OPENAI_VERSION\")\n",
    "api_deployment_name = os.getenv(\"OPENAI_GPT_DEPLOYMENT\")\n",
    "\n",
    "DATA_FOLDER = \"data/\"\n",
    "\n",
    "assistant = None\n",
    "thread = None\n",
    "should_cleanup: bool = False"
   ]
  },
  {
   "cell_type": "code",
   "execution_count": null,
   "metadata": {},
   "outputs": [],
   "source": [
    "import io\n",
    "import json\n",
    "from datetime import datetime\n",
    "from typing import Iterable\n",
    "from PIL import Image\n",
    "from IPython.display import display\n",
    "import sqlite3\n",
    "import pandas as pd\n",
    "\n",
    "from openai import AzureOpenAI\n",
    "from openai.types.beta.threads import Message, TextContentBlock, ImageFileContentBlock, Run\n",
    "from openai.types.beta.thread import Thread"
   ]
  },
  {
   "cell_type": "code",
   "execution_count": null,
   "metadata": {},
   "outputs": [],
   "source": [
    "con = sqlite3.connect('./database/order_data.db')"
   ]
  },
  {
   "cell_type": "code",
   "execution_count": null,
   "metadata": {},
   "outputs": [],
   "source": [
    "def get_revenue_by_region() -> pd.DataFrame:\n",
    "    query = \"\"\"\n",
    "        SELECT \n",
    "            Region,\n",
    "            SUM(Number_of_Orders) as Number_of_Orders, \n",
    "            CAST(SUM(Sum_of_Order_Value_USD) AS INTEGER) as Total_Order_Value,\n",
    "            SUM(Sum_of_Order_Value_USD)/SUM(Number_of_Orders) as Avg_Order_Value,\n",
    "            SUM(Sum_of_Shipping_Cost_USD)/SUM(Number_of_Orders) as Avg_Shipping_Cost\n",
    "        FROM order_data GROUP BY Region ORDER BY Total_Order_Value\n",
    "    \"\"\"\n",
    "    return pd.read_sql_query(query, con)"
   ]
  },
  {
   "cell_type": "code",
   "execution_count": null,
   "metadata": {},
   "outputs": [],
   "source": [
    "def get_sales_by_month(month: int) -> pd.DataFrame:\n",
    "    query = \"\"\"\n",
    "        SELECT   \n",
    "            SUM(Sum_of_Order_Value_USD) AS Revenue, Month, Year\n",
    "            FROM order_data WHERE Month = ? GROUP BY Month, Year ORDER BY Year, Month\n",
    "    \"\"\"\n",
    "\n",
    "    return pd.read_sql_query(query, con, params=[month])"
   ]
  },
  {
   "cell_type": "markdown",
   "metadata": {},
   "source": [
    "### Create an AzureOpenAI client"
   ]
  },
  {
   "cell_type": "code",
   "execution_count": null,
   "metadata": {},
   "outputs": [],
   "source": [
    "client = AzureOpenAI(api_key=api_key, api_version=api_version, azure_endpoint=api_endpoint)"
   ]
  },
  {
   "cell_type": "markdown",
   "metadata": {},
   "source": [
    "### Define the Assistant tools"
   ]
  },
  {
   "cell_type": "code",
   "execution_count": null,
   "metadata": {},
   "outputs": [],
   "source": [
    "tools_list = [\n",
    "    {\n",
    "        \"type\": \"code_interpreter\"\n",
    "    },\n",
    "    {\n",
    "        \"type\": \"function\",\n",
    "        \"function\": {\n",
    "            \"name\": \"get_revenue_by_region\",\n",
    "            \"description\": \"Get the sales revenue for Contoso by region.\"\n",
    "        }\n",
    "    },\n",
    "    {\n",
    "        \"type\": \"function\",\n",
    "        \"function\": {\n",
    "            \"name\": \"get_sales_by_month\",\n",
    "            \"description\": \"Get the Contoso sales by month.\",\n",
    "            \"parameters\": {\n",
    "                \"type\": \"object\",\n",
    "                \"properties\": {\n",
    "                    \"month\": {\n",
    "                        \"type\": \"integer\",\n",
    "                        \"description\": \"The Contoso sales for a specific month.\",\n",
    "                    }\n",
    "                },\n",
    "                \"required\": [\"month\"],\n",
    "            },\n",
    "        },\n",
    "    },\n",
    "]\n"
   ]
  },
  {
   "cell_type": "markdown",
   "metadata": {},
   "source": [
    "### Process Function calling"
   ]
  },
  {
   "cell_type": "code",
   "execution_count": null,
   "metadata": {},
   "outputs": [],
   "source": [
    "def call_functions(client: AzureOpenAI, thread: Thread, run: Run) -> None:\n",
    "    print(\"Function Calling\")\n",
    "    required_actions = run.required_action.submit_tool_outputs.model_dump()\n",
    "    print(required_actions)\n",
    "\n",
    "    tool_outputs = []\n",
    "\n",
    "    # Mapping function names to their corresponding functions\n",
    "    function_map = {\n",
    "        \"get_revenue_by_region\": get_revenue_by_region,\n",
    "        \"get_sales_by_month\": get_sales_by_month\n",
    "    }\n",
    "\n",
    "    for action in required_actions[\"tool_calls\"]:\n",
    "        func_name = action[\"function\"][\"name\"]\n",
    "        arguments = json.loads(action[\"function\"][\"arguments\"])\n",
    "        function = function_map.get(func_name)\n",
    "\n",
    "        if function:\n",
    "            if func_name == \"get_sales_by_month\":\n",
    "                df = function(month=arguments[\"month\"])\n",
    "            else:\n",
    "                df = function()\n",
    "                \n",
    "            tool_outputs.append({\"tool_call_id\": action[\"id\"], \"output\": df.to_string(index=False)})\n",
    "        else:\n",
    "            raise ValueError(f\"Unknown function: {func_name}\")\n",
    "\n",
    "    client.beta.threads.runs.submit_tool_outputs(thread_id=thread.id, run_id=run.id, tool_outputs=tool_outputs)"
   ]
  },
  {
   "cell_type": "markdown",
   "metadata": {},
   "source": [
    "### Format and display the Assistant Messages for text and images"
   ]
  },
  {
   "cell_type": "code",
   "execution_count": null,
   "metadata": {},
   "outputs": [],
   "source": [
    "def format_messages(messages: Iterable[Message]) -> None:\n",
    "    message_list = []\n",
    "    message_list = [message for message in messages if message_list.append(message) or message.role != \"user\"]\n",
    "    message_list.reverse()\n",
    "\n",
    "    for message in message_list:\n",
    "        for item in message.content:\n",
    "            if isinstance(item, TextContentBlock):\n",
    "                print(f\"{message.role}:\\n{item.text.value}\\n\")\n",
    "            elif isinstance(item, ImageFileContentBlock):\n",
    "                image = Image.open(io.BytesIO(client.files.content(item.image_file.file_id).read()))\n",
    "                image = image.resize((image.width // 2, image.height // 2), Image.LANCZOS)\n",
    "                display(image)"
   ]
  },
  {
   "cell_type": "markdown",
   "metadata": {},
   "source": [
    "### Process the user messages"
   ]
  },
  {
   "cell_type": "code",
   "execution_count": null,
   "metadata": {},
   "outputs": [],
   "source": [
    "def process_message(content: str) -> None:\n",
    "    client.beta.threads.messages.create(\n",
    "        thread_id=thread.id, role=\"user\", content=content\n",
    "    )\n",
    "\n",
    "    completed_run = client.beta.threads.runs.create(\n",
    "        thread_id=thread.id, assistant_id=assistant.id\n",
    "    )\n",
    "    \n",
    "    print(\"processing starting\")\n",
    "\n",
    "    while True:\n",
    "        completed_run = client.beta.threads.runs.poll(run_id=completed_run.id, thread_id=thread.id)\n",
    "        print(\"Completed Run Status: \" + completed_run.status)\n",
    "        if completed_run.status in [\"completed\", \"failed\", \"expired\", \"cancelled\", \"incomplete\"]:\n",
    "            messages = client.beta.threads.messages.list(thread_id=thread.id)\n",
    "            format_messages(messages)\n",
    "            break\n",
    "        elif completed_run.status == \"requires_action\":\n",
    "            call_functions(client, thread, completed_run)\n",
    "    \n",
    "    print(\"processing completed\")"
   ]
  },
  {
   "cell_type": "markdown",
   "metadata": {},
   "source": [
    "### Create an Assistant and a Thread"
   ]
  },
  {
   "cell_type": "code",
   "execution_count": null,
   "metadata": {},
   "outputs": [],
   "source": [
    "instructions = (\"You are a sales analysis assistant for contoso.\",\n",
    "                \"Please be polite, professional, helpful, and friendly.\", \n",
    "                \"You get all the sales data from this app using the functions provided.\",\n",
    "                \"If question is not related to the sales or you cannot answer the question, \",\n",
    "                \"say, 'contact IT for more assistance.' \", \n",
    "                \"If the user asks for help or says 'help', provide a list of sample questions that you can answer.\",\n",
    "                f\"The current date and time is: {datetime.now().strftime('%x %X')}.\")\n",
    "\n",
    "assistant = client.beta.assistants.create(\n",
    "    name=\"Portfolio Management Assistant\",\n",
    "    model=api_deployment_name,\n",
    "    instructions=str(instructions),\n",
    "    tools=tools_list,\n",
    ")"
   ]
  },
  {
   "cell_type": "markdown",
   "metadata": {},
   "source": [
    "### Create a thread\n",
    "\n",
    "Threads in the OpenAI Assistant API are designed to be session-based.\n",
    "Each thread is a conversation between the user and the assistant."
   ]
  },
  {
   "cell_type": "code",
   "execution_count": null,
   "metadata": {},
   "outputs": [],
   "source": [
    "thread = client.beta.threads.create()"
   ]
  },
  {
   "cell_type": "markdown",
   "metadata": {},
   "source": [
    "### Have a conversation with the Assistant"
   ]
  },
  {
   "cell_type": "code",
   "execution_count": null,
   "metadata": {},
   "outputs": [],
   "source": [
    "process_message(\"what was the total sales data for region? Display as a table.\")"
   ]
  },
  {
   "cell_type": "code",
   "execution_count": null,
   "metadata": {},
   "outputs": [],
   "source": [
    "process_message(\"Chart the sales by region. Use different colors for each region.\")"
   ]
  },
  {
   "cell_type": "code",
   "execution_count": null,
   "metadata": {},
   "outputs": [],
   "source": [
    "process_message(\"Calculate the worldwide sales revenue. Display as a table.\")"
   ]
  },
  {
   "cell_type": "code",
   "execution_count": null,
   "metadata": {},
   "outputs": [],
   "source": [
    "process_message(\"what were the sales for March? Display as a table.\")"
   ]
  },
  {
   "cell_type": "markdown",
   "metadata": {},
   "source": [
    "## Cleaning up"
   ]
  },
  {
   "cell_type": "code",
   "execution_count": null,
   "metadata": {},
   "outputs": [],
   "source": [
    "if should_cleanup:\n",
    "    client.beta.assistants.delete(assistant.id)\n",
    "    client.beta.threads.delete(thread.id)\n",
    "    for file in assistant_files:\n",
    "        client.files.delete(file.id)"
   ]
  }
 ],
 "metadata": {
  "kernelspec": {
   "display_name": "Python 3 (ipykernel)",
   "language": "python",
   "name": "python3"
  },
  "language_info": {
   "codemirror_mode": {
    "name": "ipython",
    "version": 3
   },
   "file_extension": ".py",
   "mimetype": "text/x-python",
   "name": "python",
   "nbconvert_exporter": "python",
   "pygments_lexer": "ipython3",
   "version": "3.11.9"
  }
 },
 "nbformat": 4,
 "nbformat_minor": 4
}
