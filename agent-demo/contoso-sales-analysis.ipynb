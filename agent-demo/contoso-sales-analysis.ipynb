{
 "cells": [
  {
   "cell_type": "markdown",
   "metadata": {},
   "source": [
    "# Contoso Sales Analysis Assistant"
   ]
  },
  {
   "cell_type": "markdown",
   "metadata": {},
   "source": [
    "## Objective\n",
    "\n",
    "This notebook demonstrates the following:\n",
    "\n",
    "<!-- - Function Calling with Yfinance to get latest stock prices. Summarization of user provided article. Extract country info from article, extract country, capital and other aspects, and call an API to get more information about each country.\n",
    "\n",
    "This tutorial uses the following Azure AI services:\n",
    "- Access to Azure OpenAI Service - you can apply for access [here](https://aka.ms/oai/access)\n",
    "- Azure OpenAI service - you can create it from instructions [here](https://learn.microsoft.com/en-us/azure/ai-services/openai/how-to/create-resource)\n",
    "- Azure OpenAI Studio - go to [https://oai.azure.com/](https://oai.azure.com/) to work with the Assistants API Playground\n",
    "- A connection to the Azure OpenAI Service with a [Key and Endpoint](https://learn.microsoft.com/en-us/azure/ai-services/openai/chatgpt-quickstart)\n",
    "\n",
    "Reference:\n",
    "- Learn more about how to use Assistants with our [How-to guide on Assistants](https://learn.microsoft.com/en-us/azure/ai-services/openai/how-to/assistant)\n",
    "- [Assistants OpenAI Overview](https://platform.openai.com/docs/assistants/overview) -->"
   ]
  },
  {
   "cell_type": "markdown",
   "metadata": {},
   "source": [
    "## Time\n",
    "\n",
    "You should expect to spend 10-15 minutes running this sample. "
   ]
  },
  {
   "cell_type": "markdown",
   "metadata": {},
   "source": [
    "## About this example\n",
    "\n",
    "The objective of the provided Python file is to create an Azure OpenAI Assistant named \"Contoso Sales Analysis Assistant\" using the Azure OpenAI API. The assistant is designed to act as a sales analysis assistant, providing information and insights related to the contoso business sales. The script initiates a conversation with the assistant, guiding it through various financial queries and scenarios to showcase its capabilities.\n",
    "\n",
    "### Data\n",
    "This sample uses files from the folder [`data/`](./data/) in this repo. You can clone this repo or copy this folder to make sure you have access to these files when running the sample.\n",
    "\n"
   ]
  },
  {
   "cell_type": "markdown",
   "metadata": {},
   "source": [
    "## Before you begin\n",
    "\n"
   ]
  },
  {
   "cell_type": "markdown",
   "metadata": {},
   "source": [
    "### Installation\n",
    "\n",
    "Create a Python Virtual Environment\n",
    "\n",
    "#### Windows\n",
    "\n",
    "1. Create a new Python virtual environment by running the following command in your terminal:\n",
    "\n",
    "    ```bash\n",
    "    python -m venv .venv\n",
    "    ```\n",
    "\n",
    "2. Activate the virtual environment:\n",
    "\n",
    "    ```bash\n",
    "    .venv\\Scripts\\activate\n",
    "    ```\n",
    "\n",
    "#### macOS and Linux\n",
    "\n",
    "1. Create a new Python virtual environment by running the following command in your terminal:\n",
    "\n",
    "    ```bash\n",
    "    python3 -m venv .venv\n",
    "    ```\n",
    "\n",
    "2. Activate the virtual environment:\n",
    "\n",
    "    ```bash\n",
    "    source .venv/bin/activate\n",
    "    ```\n",
    "\n",
    "### Update pip\n",
    "\n",
    "```bash\n",
    "pip install --upgrade pip\n",
    "```\n",
    "\n",
    "Then, install the following packages required to execute this notebook. \n",
    "\n"
   ]
  },
  {
   "cell_type": "code",
   "execution_count": 19,
   "metadata": {},
   "outputs": [
    {
     "name": "stdout",
     "output_type": "stream",
     "text": [
      "Requirement already satisfied: openai<2.0.0,>=1.37.1 in ./.venv/lib/python3.11/site-packages (from -r requirements.txt (line 1)) (1.37.1)\n",
      "Requirement already satisfied: python-dotenv<2.0.0,>=1.0.1 in ./.venv/lib/python3.11/site-packages (from -r requirements.txt (line 2)) (1.0.1)\n",
      "Requirement already satisfied: yfinance<0.3.0,>=0.2.41 in ./.venv/lib/python3.11/site-packages (from -r requirements.txt (line 3)) (0.2.41)\n",
      "Requirement already satisfied: pillow<11.0.0,>=10.4.0 in ./.venv/lib/python3.11/site-packages (from -r requirements.txt (line 4)) (10.4.0)\n",
      "Requirement already satisfied: ipython in ./.venv/lib/python3.11/site-packages (from -r requirements.txt (line 5)) (8.26.0)\n",
      "Requirement already satisfied: jupyter in ./.venv/lib/python3.11/site-packages (from -r requirements.txt (line 6)) (1.0.0)\n",
      "Requirement already satisfied: anyio<5,>=3.5.0 in ./.venv/lib/python3.11/site-packages (from openai<2.0.0,>=1.37.1->-r requirements.txt (line 1)) (4.4.0)\n",
      "Requirement already satisfied: distro<2,>=1.7.0 in ./.venv/lib/python3.11/site-packages (from openai<2.0.0,>=1.37.1->-r requirements.txt (line 1)) (1.9.0)\n",
      "Requirement already satisfied: httpx<1,>=0.23.0 in ./.venv/lib/python3.11/site-packages (from openai<2.0.0,>=1.37.1->-r requirements.txt (line 1)) (0.27.0)\n",
      "Requirement already satisfied: pydantic<3,>=1.9.0 in ./.venv/lib/python3.11/site-packages (from openai<2.0.0,>=1.37.1->-r requirements.txt (line 1)) (2.8.2)\n",
      "Requirement already satisfied: sniffio in ./.venv/lib/python3.11/site-packages (from openai<2.0.0,>=1.37.1->-r requirements.txt (line 1)) (1.3.1)\n",
      "Requirement already satisfied: tqdm>4 in ./.venv/lib/python3.11/site-packages (from openai<2.0.0,>=1.37.1->-r requirements.txt (line 1)) (4.66.4)\n",
      "Requirement already satisfied: typing-extensions<5,>=4.7 in ./.venv/lib/python3.11/site-packages (from openai<2.0.0,>=1.37.1->-r requirements.txt (line 1)) (4.12.2)\n",
      "Requirement already satisfied: pandas>=1.3.0 in ./.venv/lib/python3.11/site-packages (from yfinance<0.3.0,>=0.2.41->-r requirements.txt (line 3)) (2.2.2)\n",
      "Requirement already satisfied: numpy>=1.16.5 in ./.venv/lib/python3.11/site-packages (from yfinance<0.3.0,>=0.2.41->-r requirements.txt (line 3)) (2.0.1)\n",
      "Requirement already satisfied: requests>=2.31 in ./.venv/lib/python3.11/site-packages (from yfinance<0.3.0,>=0.2.41->-r requirements.txt (line 3)) (2.32.3)\n",
      "Requirement already satisfied: multitasking>=0.0.7 in ./.venv/lib/python3.11/site-packages (from yfinance<0.3.0,>=0.2.41->-r requirements.txt (line 3)) (0.0.11)\n",
      "Requirement already satisfied: lxml>=4.9.1 in ./.venv/lib/python3.11/site-packages (from yfinance<0.3.0,>=0.2.41->-r requirements.txt (line 3)) (5.2.2)\n",
      "Requirement already satisfied: platformdirs>=2.0.0 in ./.venv/lib/python3.11/site-packages (from yfinance<0.3.0,>=0.2.41->-r requirements.txt (line 3)) (4.2.2)\n",
      "Requirement already satisfied: pytz>=2022.5 in ./.venv/lib/python3.11/site-packages (from yfinance<0.3.0,>=0.2.41->-r requirements.txt (line 3)) (2024.1)\n",
      "Requirement already satisfied: frozendict>=2.3.4 in ./.venv/lib/python3.11/site-packages (from yfinance<0.3.0,>=0.2.41->-r requirements.txt (line 3)) (2.4.4)\n",
      "Requirement already satisfied: peewee>=3.16.2 in ./.venv/lib/python3.11/site-packages (from yfinance<0.3.0,>=0.2.41->-r requirements.txt (line 3)) (3.17.6)\n",
      "Requirement already satisfied: beautifulsoup4>=4.11.1 in ./.venv/lib/python3.11/site-packages (from yfinance<0.3.0,>=0.2.41->-r requirements.txt (line 3)) (4.12.3)\n",
      "Requirement already satisfied: html5lib>=1.1 in ./.venv/lib/python3.11/site-packages (from yfinance<0.3.0,>=0.2.41->-r requirements.txt (line 3)) (1.1)\n",
      "Requirement already satisfied: decorator in ./.venv/lib/python3.11/site-packages (from ipython->-r requirements.txt (line 5)) (5.1.1)\n",
      "Requirement already satisfied: jedi>=0.16 in ./.venv/lib/python3.11/site-packages (from ipython->-r requirements.txt (line 5)) (0.19.1)\n",
      "Requirement already satisfied: matplotlib-inline in ./.venv/lib/python3.11/site-packages (from ipython->-r requirements.txt (line 5)) (0.1.7)\n",
      "Requirement already satisfied: prompt-toolkit<3.1.0,>=3.0.41 in ./.venv/lib/python3.11/site-packages (from ipython->-r requirements.txt (line 5)) (3.0.47)\n",
      "Requirement already satisfied: pygments>=2.4.0 in ./.venv/lib/python3.11/site-packages (from ipython->-r requirements.txt (line 5)) (2.18.0)\n",
      "Requirement already satisfied: stack-data in ./.venv/lib/python3.11/site-packages (from ipython->-r requirements.txt (line 5)) (0.6.3)\n",
      "Requirement already satisfied: traitlets>=5.13.0 in ./.venv/lib/python3.11/site-packages (from ipython->-r requirements.txt (line 5)) (5.14.3)\n",
      "Requirement already satisfied: pexpect>4.3 in ./.venv/lib/python3.11/site-packages (from ipython->-r requirements.txt (line 5)) (4.9.0)\n",
      "Requirement already satisfied: notebook in ./.venv/lib/python3.11/site-packages (from jupyter->-r requirements.txt (line 6)) (7.2.1)\n",
      "Requirement already satisfied: qtconsole in ./.venv/lib/python3.11/site-packages (from jupyter->-r requirements.txt (line 6)) (5.5.2)\n",
      "Requirement already satisfied: jupyter-console in ./.venv/lib/python3.11/site-packages (from jupyter->-r requirements.txt (line 6)) (6.6.3)\n",
      "Requirement already satisfied: nbconvert in ./.venv/lib/python3.11/site-packages (from jupyter->-r requirements.txt (line 6)) (7.16.4)\n",
      "Requirement already satisfied: ipykernel in ./.venv/lib/python3.11/site-packages (from jupyter->-r requirements.txt (line 6)) (6.29.5)\n",
      "Requirement already satisfied: ipywidgets in ./.venv/lib/python3.11/site-packages (from jupyter->-r requirements.txt (line 6)) (8.1.3)\n",
      "Requirement already satisfied: idna>=2.8 in ./.venv/lib/python3.11/site-packages (from anyio<5,>=3.5.0->openai<2.0.0,>=1.37.1->-r requirements.txt (line 1)) (3.7)\n",
      "Requirement already satisfied: soupsieve>1.2 in ./.venv/lib/python3.11/site-packages (from beautifulsoup4>=4.11.1->yfinance<0.3.0,>=0.2.41->-r requirements.txt (line 3)) (2.5)\n",
      "Requirement already satisfied: six>=1.9 in ./.venv/lib/python3.11/site-packages (from html5lib>=1.1->yfinance<0.3.0,>=0.2.41->-r requirements.txt (line 3)) (1.16.0)\n",
      "Requirement already satisfied: webencodings in ./.venv/lib/python3.11/site-packages (from html5lib>=1.1->yfinance<0.3.0,>=0.2.41->-r requirements.txt (line 3)) (0.5.1)\n",
      "Requirement already satisfied: certifi in ./.venv/lib/python3.11/site-packages (from httpx<1,>=0.23.0->openai<2.0.0,>=1.37.1->-r requirements.txt (line 1)) (2024.7.4)\n",
      "Requirement already satisfied: httpcore==1.* in ./.venv/lib/python3.11/site-packages (from httpx<1,>=0.23.0->openai<2.0.0,>=1.37.1->-r requirements.txt (line 1)) (1.0.5)\n",
      "Requirement already satisfied: h11<0.15,>=0.13 in ./.venv/lib/python3.11/site-packages (from httpcore==1.*->httpx<1,>=0.23.0->openai<2.0.0,>=1.37.1->-r requirements.txt (line 1)) (0.14.0)\n",
      "Requirement already satisfied: parso<0.9.0,>=0.8.3 in ./.venv/lib/python3.11/site-packages (from jedi>=0.16->ipython->-r requirements.txt (line 5)) (0.8.4)\n",
      "Requirement already satisfied: python-dateutil>=2.8.2 in ./.venv/lib/python3.11/site-packages (from pandas>=1.3.0->yfinance<0.3.0,>=0.2.41->-r requirements.txt (line 3)) (2.9.0.post0)\n",
      "Requirement already satisfied: tzdata>=2022.7 in ./.venv/lib/python3.11/site-packages (from pandas>=1.3.0->yfinance<0.3.0,>=0.2.41->-r requirements.txt (line 3)) (2024.1)\n",
      "Requirement already satisfied: ptyprocess>=0.5 in ./.venv/lib/python3.11/site-packages (from pexpect>4.3->ipython->-r requirements.txt (line 5)) (0.7.0)\n",
      "Requirement already satisfied: wcwidth in ./.venv/lib/python3.11/site-packages (from prompt-toolkit<3.1.0,>=3.0.41->ipython->-r requirements.txt (line 5)) (0.2.13)\n",
      "Requirement already satisfied: annotated-types>=0.4.0 in ./.venv/lib/python3.11/site-packages (from pydantic<3,>=1.9.0->openai<2.0.0,>=1.37.1->-r requirements.txt (line 1)) (0.7.0)\n",
      "Requirement already satisfied: pydantic-core==2.20.1 in ./.venv/lib/python3.11/site-packages (from pydantic<3,>=1.9.0->openai<2.0.0,>=1.37.1->-r requirements.txt (line 1)) (2.20.1)\n",
      "Requirement already satisfied: charset-normalizer<4,>=2 in ./.venv/lib/python3.11/site-packages (from requests>=2.31->yfinance<0.3.0,>=0.2.41->-r requirements.txt (line 3)) (3.3.2)\n",
      "Requirement already satisfied: urllib3<3,>=1.21.1 in ./.venv/lib/python3.11/site-packages (from requests>=2.31->yfinance<0.3.0,>=0.2.41->-r requirements.txt (line 3)) (2.2.2)\n",
      "Requirement already satisfied: appnope in ./.venv/lib/python3.11/site-packages (from ipykernel->jupyter->-r requirements.txt (line 6)) (0.1.4)\n",
      "Requirement already satisfied: comm>=0.1.1 in ./.venv/lib/python3.11/site-packages (from ipykernel->jupyter->-r requirements.txt (line 6)) (0.2.2)\n",
      "Requirement already satisfied: debugpy>=1.6.5 in ./.venv/lib/python3.11/site-packages (from ipykernel->jupyter->-r requirements.txt (line 6)) (1.8.2)\n",
      "Requirement already satisfied: jupyter-client>=6.1.12 in ./.venv/lib/python3.11/site-packages (from ipykernel->jupyter->-r requirements.txt (line 6)) (8.6.2)\n",
      "Requirement already satisfied: jupyter-core!=5.0.*,>=4.12 in ./.venv/lib/python3.11/site-packages (from ipykernel->jupyter->-r requirements.txt (line 6)) (5.7.2)\n",
      "Requirement already satisfied: nest-asyncio in ./.venv/lib/python3.11/site-packages (from ipykernel->jupyter->-r requirements.txt (line 6)) (1.6.0)\n",
      "Requirement already satisfied: packaging in ./.venv/lib/python3.11/site-packages (from ipykernel->jupyter->-r requirements.txt (line 6)) (24.1)\n",
      "Requirement already satisfied: psutil in ./.venv/lib/python3.11/site-packages (from ipykernel->jupyter->-r requirements.txt (line 6)) (6.0.0)\n",
      "Requirement already satisfied: pyzmq>=24 in ./.venv/lib/python3.11/site-packages (from ipykernel->jupyter->-r requirements.txt (line 6)) (26.0.3)\n",
      "Requirement already satisfied: tornado>=6.1 in ./.venv/lib/python3.11/site-packages (from ipykernel->jupyter->-r requirements.txt (line 6)) (6.4.1)\n",
      "Requirement already satisfied: widgetsnbextension~=4.0.11 in ./.venv/lib/python3.11/site-packages (from ipywidgets->jupyter->-r requirements.txt (line 6)) (4.0.11)\n",
      "Requirement already satisfied: jupyterlab-widgets~=3.0.11 in ./.venv/lib/python3.11/site-packages (from ipywidgets->jupyter->-r requirements.txt (line 6)) (3.0.11)\n",
      "Requirement already satisfied: bleach!=5.0.0 in ./.venv/lib/python3.11/site-packages (from nbconvert->jupyter->-r requirements.txt (line 6)) (6.1.0)\n",
      "Requirement already satisfied: defusedxml in ./.venv/lib/python3.11/site-packages (from nbconvert->jupyter->-r requirements.txt (line 6)) (0.7.1)\n",
      "Requirement already satisfied: jinja2>=3.0 in ./.venv/lib/python3.11/site-packages (from nbconvert->jupyter->-r requirements.txt (line 6)) (3.1.4)\n",
      "Requirement already satisfied: jupyterlab-pygments in ./.venv/lib/python3.11/site-packages (from nbconvert->jupyter->-r requirements.txt (line 6)) (0.3.0)\n",
      "Requirement already satisfied: markupsafe>=2.0 in ./.venv/lib/python3.11/site-packages (from nbconvert->jupyter->-r requirements.txt (line 6)) (2.1.5)\n",
      "Requirement already satisfied: mistune<4,>=2.0.3 in ./.venv/lib/python3.11/site-packages (from nbconvert->jupyter->-r requirements.txt (line 6)) (3.0.2)\n",
      "Requirement already satisfied: nbclient>=0.5.0 in ./.venv/lib/python3.11/site-packages (from nbconvert->jupyter->-r requirements.txt (line 6)) (0.10.0)\n",
      "Requirement already satisfied: nbformat>=5.7 in ./.venv/lib/python3.11/site-packages (from nbconvert->jupyter->-r requirements.txt (line 6)) (5.10.4)\n",
      "Requirement already satisfied: pandocfilters>=1.4.1 in ./.venv/lib/python3.11/site-packages (from nbconvert->jupyter->-r requirements.txt (line 6)) (1.5.1)\n",
      "Requirement already satisfied: tinycss2 in ./.venv/lib/python3.11/site-packages (from nbconvert->jupyter->-r requirements.txt (line 6)) (1.3.0)\n",
      "Requirement already satisfied: jupyter-server<3,>=2.4.0 in ./.venv/lib/python3.11/site-packages (from notebook->jupyter->-r requirements.txt (line 6)) (2.14.2)\n",
      "Requirement already satisfied: jupyterlab-server<3,>=2.27.1 in ./.venv/lib/python3.11/site-packages (from notebook->jupyter->-r requirements.txt (line 6)) (2.27.3)\n",
      "Requirement already satisfied: jupyterlab<4.3,>=4.2.0 in ./.venv/lib/python3.11/site-packages (from notebook->jupyter->-r requirements.txt (line 6)) (4.2.4)\n",
      "Requirement already satisfied: notebook-shim<0.3,>=0.2 in ./.venv/lib/python3.11/site-packages (from notebook->jupyter->-r requirements.txt (line 6)) (0.2.4)\n",
      "Requirement already satisfied: qtpy>=2.4.0 in ./.venv/lib/python3.11/site-packages (from qtconsole->jupyter->-r requirements.txt (line 6)) (2.4.1)\n",
      "Requirement already satisfied: executing>=1.2.0 in ./.venv/lib/python3.11/site-packages (from stack-data->ipython->-r requirements.txt (line 5)) (2.0.1)\n",
      "Requirement already satisfied: asttokens>=2.1.0 in ./.venv/lib/python3.11/site-packages (from stack-data->ipython->-r requirements.txt (line 5)) (2.4.1)\n",
      "Requirement already satisfied: pure-eval in ./.venv/lib/python3.11/site-packages (from stack-data->ipython->-r requirements.txt (line 5)) (0.2.3)\n",
      "Requirement already satisfied: argon2-cffi>=21.1 in ./.venv/lib/python3.11/site-packages (from jupyter-server<3,>=2.4.0->notebook->jupyter->-r requirements.txt (line 6)) (23.1.0)\n",
      "Requirement already satisfied: jupyter-events>=0.9.0 in ./.venv/lib/python3.11/site-packages (from jupyter-server<3,>=2.4.0->notebook->jupyter->-r requirements.txt (line 6)) (0.10.0)\n",
      "Requirement already satisfied: jupyter-server-terminals>=0.4.4 in ./.venv/lib/python3.11/site-packages (from jupyter-server<3,>=2.4.0->notebook->jupyter->-r requirements.txt (line 6)) (0.5.3)\n",
      "Requirement already satisfied: overrides>=5.0 in ./.venv/lib/python3.11/site-packages (from jupyter-server<3,>=2.4.0->notebook->jupyter->-r requirements.txt (line 6)) (7.7.0)\n",
      "Requirement already satisfied: prometheus-client>=0.9 in ./.venv/lib/python3.11/site-packages (from jupyter-server<3,>=2.4.0->notebook->jupyter->-r requirements.txt (line 6)) (0.20.0)\n",
      "Requirement already satisfied: send2trash>=1.8.2 in ./.venv/lib/python3.11/site-packages (from jupyter-server<3,>=2.4.0->notebook->jupyter->-r requirements.txt (line 6)) (1.8.3)\n",
      "Requirement already satisfied: terminado>=0.8.3 in ./.venv/lib/python3.11/site-packages (from jupyter-server<3,>=2.4.0->notebook->jupyter->-r requirements.txt (line 6)) (0.18.1)\n",
      "Requirement already satisfied: websocket-client>=1.7 in ./.venv/lib/python3.11/site-packages (from jupyter-server<3,>=2.4.0->notebook->jupyter->-r requirements.txt (line 6)) (1.8.0)\n",
      "Requirement already satisfied: async-lru>=1.0.0 in ./.venv/lib/python3.11/site-packages (from jupyterlab<4.3,>=4.2.0->notebook->jupyter->-r requirements.txt (line 6)) (2.0.4)\n",
      "Requirement already satisfied: jupyter-lsp>=2.0.0 in ./.venv/lib/python3.11/site-packages (from jupyterlab<4.3,>=4.2.0->notebook->jupyter->-r requirements.txt (line 6)) (2.2.5)\n",
      "Requirement already satisfied: setuptools>=40.1.0 in ./.venv/lib/python3.11/site-packages (from jupyterlab<4.3,>=4.2.0->notebook->jupyter->-r requirements.txt (line 6)) (65.5.0)\n",
      "Requirement already satisfied: babel>=2.10 in ./.venv/lib/python3.11/site-packages (from jupyterlab-server<3,>=2.27.1->notebook->jupyter->-r requirements.txt (line 6)) (2.15.0)\n",
      "Requirement already satisfied: json5>=0.9.0 in ./.venv/lib/python3.11/site-packages (from jupyterlab-server<3,>=2.27.1->notebook->jupyter->-r requirements.txt (line 6)) (0.9.25)\n",
      "Requirement already satisfied: jsonschema>=4.18.0 in ./.venv/lib/python3.11/site-packages (from jupyterlab-server<3,>=2.27.1->notebook->jupyter->-r requirements.txt (line 6)) (4.23.0)\n",
      "Requirement already satisfied: fastjsonschema>=2.15 in ./.venv/lib/python3.11/site-packages (from nbformat>=5.7->nbconvert->jupyter->-r requirements.txt (line 6)) (2.20.0)\n",
      "Requirement already satisfied: argon2-cffi-bindings in ./.venv/lib/python3.11/site-packages (from argon2-cffi>=21.1->jupyter-server<3,>=2.4.0->notebook->jupyter->-r requirements.txt (line 6)) (21.2.0)\n",
      "Requirement already satisfied: attrs>=22.2.0 in ./.venv/lib/python3.11/site-packages (from jsonschema>=4.18.0->jupyterlab-server<3,>=2.27.1->notebook->jupyter->-r requirements.txt (line 6)) (23.2.0)\n",
      "Requirement already satisfied: jsonschema-specifications>=2023.03.6 in ./.venv/lib/python3.11/site-packages (from jsonschema>=4.18.0->jupyterlab-server<3,>=2.27.1->notebook->jupyter->-r requirements.txt (line 6)) (2023.12.1)\n",
      "Requirement already satisfied: referencing>=0.28.4 in ./.venv/lib/python3.11/site-packages (from jsonschema>=4.18.0->jupyterlab-server<3,>=2.27.1->notebook->jupyter->-r requirements.txt (line 6)) (0.35.1)\n",
      "Requirement already satisfied: rpds-py>=0.7.1 in ./.venv/lib/python3.11/site-packages (from jsonschema>=4.18.0->jupyterlab-server<3,>=2.27.1->notebook->jupyter->-r requirements.txt (line 6)) (0.19.1)\n",
      "Requirement already satisfied: python-json-logger>=2.0.4 in ./.venv/lib/python3.11/site-packages (from jupyter-events>=0.9.0->jupyter-server<3,>=2.4.0->notebook->jupyter->-r requirements.txt (line 6)) (2.0.7)\n",
      "Requirement already satisfied: pyyaml>=5.3 in ./.venv/lib/python3.11/site-packages (from jupyter-events>=0.9.0->jupyter-server<3,>=2.4.0->notebook->jupyter->-r requirements.txt (line 6)) (6.0.1)\n",
      "Requirement already satisfied: rfc3339-validator in ./.venv/lib/python3.11/site-packages (from jupyter-events>=0.9.0->jupyter-server<3,>=2.4.0->notebook->jupyter->-r requirements.txt (line 6)) (0.1.4)\n",
      "Requirement already satisfied: rfc3986-validator>=0.1.1 in ./.venv/lib/python3.11/site-packages (from jupyter-events>=0.9.0->jupyter-server<3,>=2.4.0->notebook->jupyter->-r requirements.txt (line 6)) (0.1.1)\n",
      "Requirement already satisfied: fqdn in ./.venv/lib/python3.11/site-packages (from jsonschema[format-nongpl]>=4.18.0->jupyter-events>=0.9.0->jupyter-server<3,>=2.4.0->notebook->jupyter->-r requirements.txt (line 6)) (1.5.1)\n",
      "Requirement already satisfied: isoduration in ./.venv/lib/python3.11/site-packages (from jsonschema[format-nongpl]>=4.18.0->jupyter-events>=0.9.0->jupyter-server<3,>=2.4.0->notebook->jupyter->-r requirements.txt (line 6)) (20.11.0)\n",
      "Requirement already satisfied: jsonpointer>1.13 in ./.venv/lib/python3.11/site-packages (from jsonschema[format-nongpl]>=4.18.0->jupyter-events>=0.9.0->jupyter-server<3,>=2.4.0->notebook->jupyter->-r requirements.txt (line 6)) (3.0.0)\n",
      "Requirement already satisfied: uri-template in ./.venv/lib/python3.11/site-packages (from jsonschema[format-nongpl]>=4.18.0->jupyter-events>=0.9.0->jupyter-server<3,>=2.4.0->notebook->jupyter->-r requirements.txt (line 6)) (1.3.0)\n",
      "Requirement already satisfied: webcolors>=24.6.0 in ./.venv/lib/python3.11/site-packages (from jsonschema[format-nongpl]>=4.18.0->jupyter-events>=0.9.0->jupyter-server<3,>=2.4.0->notebook->jupyter->-r requirements.txt (line 6)) (24.6.0)\n",
      "Requirement already satisfied: cffi>=1.0.1 in ./.venv/lib/python3.11/site-packages (from argon2-cffi-bindings->argon2-cffi>=21.1->jupyter-server<3,>=2.4.0->notebook->jupyter->-r requirements.txt (line 6)) (1.16.0)\n",
      "Requirement already satisfied: pycparser in ./.venv/lib/python3.11/site-packages (from cffi>=1.0.1->argon2-cffi-bindings->argon2-cffi>=21.1->jupyter-server<3,>=2.4.0->notebook->jupyter->-r requirements.txt (line 6)) (2.22)\n",
      "Requirement already satisfied: arrow>=0.15.0 in ./.venv/lib/python3.11/site-packages (from isoduration->jsonschema[format-nongpl]>=4.18.0->jupyter-events>=0.9.0->jupyter-server<3,>=2.4.0->notebook->jupyter->-r requirements.txt (line 6)) (1.3.0)\n",
      "Requirement already satisfied: types-python-dateutil>=2.8.10 in ./.venv/lib/python3.11/site-packages (from arrow>=0.15.0->isoduration->jsonschema[format-nongpl]>=4.18.0->jupyter-events>=0.9.0->jupyter-server<3,>=2.4.0->notebook->jupyter->-r requirements.txt (line 6)) (2.9.0.20240316)\n",
      "Note: you may need to restart the kernel to use updated packages.\n"
     ]
    }
   ],
   "source": [
    "# Install the packages\n",
    "%pip install -r requirements.txt"
   ]
  },
  {
   "cell_type": "markdown",
   "metadata": {},
   "source": [
    "### Parameters"
   ]
  },
  {
   "cell_type": "code",
   "execution_count": 20,
   "metadata": {},
   "outputs": [],
   "source": [
    "import os\n",
    "from dotenv import load_dotenv\n",
    "\n",
    "load_dotenv(\".env\")\n",
    "api_endpoint = os.getenv(\"OPENAI_URI\")\n",
    "api_key = os.getenv(\"OPENAI_KEY\")\n",
    "api_version = os.getenv(\"OPENAI_VERSION\")\n",
    "api_deployment_name = os.getenv(\"OPENAI_GPT_DEPLOYMENT\")\n",
    "email_URI = os.getenv(\"EMAIL_URI\")\n",
    "\n",
    "DATA_FOLDER = \"data/\"\n",
    "\n",
    "\n",
    "assistant = None\n",
    "thread = None\n",
    "should_cleanup: bool = True"
   ]
  },
  {
   "cell_type": "code",
   "execution_count": 21,
   "metadata": {},
   "outputs": [],
   "source": [
    "import io\n",
    "import json\n",
    "from datetime import datetime\n",
    "from pathlib import Path\n",
    "from typing import Iterable\n",
    "from PIL import Image\n",
    "from IPython.display import display\n",
    "\n",
    "import yfinance as yf\n",
    "from openai import AzureOpenAI\n",
    "from openai.types import FileObject\n",
    "from openai.types.beta.threads import Message, TextContentBlock, ImageFileContentBlock, Run\n",
    "from openai.types.beta.thread import Thread"
   ]
  },
  {
   "cell_type": "markdown",
   "metadata": {},
   "source": [
    "### Create an AzureOpenAI client"
   ]
  },
  {
   "cell_type": "code",
   "execution_count": 22,
   "metadata": {},
   "outputs": [],
   "source": [
    "client = AzureOpenAI(api_key=api_key, api_version=api_version, azure_endpoint=api_endpoint)"
   ]
  },
  {
   "cell_type": "markdown",
   "metadata": {},
   "source": [
    "### Get the latest stock price by ticker symbol using Yahoo Finance"
   ]
  },
  {
   "cell_type": "code",
   "execution_count": 23,
   "metadata": {},
   "outputs": [],
   "source": [
    "def get_stock_price(symbol: str) -> str:\n",
    "    stock = yf.Ticker(symbol)\n",
    "    price = stock.history(period=\"1d\")[\"Close\"].iloc[-1]\n",
    "    print(f\"Current price for {symbol} is {price}\")\n",
    "    return str(price)"
   ]
  },
  {
   "cell_type": "markdown",
   "metadata": {},
   "source": [
    "### Define the Assistant tools"
   ]
  },
  {
   "cell_type": "code",
   "execution_count": 24,
   "metadata": {},
   "outputs": [],
   "source": [
    "tools_list = [\n",
    "    {\"type\": \"code_interpreter\"},\n",
    "    {\n",
    "        \"type\": \"function\",\n",
    "        \"function\": {\n",
    "            \"name\": \"get_stock_price\",\n",
    "            \"description\": \"Retrieve the latest closing price of a stock using its ticker symbol.\",\n",
    "            \"parameters\": {\n",
    "                \"type\": \"object\",\n",
    "                \"properties\": {\"symbol\": {\"type\": \"string\", \"description\": \"The ticker symbol of the stock\"}},\n",
    "                \"required\": [\"symbol\"],\n",
    "            },\n",
    "        },\n",
    "    },\n",
    "]"
   ]
  },
  {
   "cell_type": "markdown",
   "metadata": {},
   "source": [
    "### Upload the file(s)"
   ]
  },
  {
   "cell_type": "code",
   "execution_count": 25,
   "metadata": {},
   "outputs": [],
   "source": [
    "\n",
    "\n",
    "\n",
    "def upload_file(client: AzureOpenAI, path: str) -> FileObject:\n",
    "    with Path(path).open(\"rb\") as f:\n",
    "        return client.files.create(file=f, purpose=\"assistants\")\n",
    "\n",
    "assistant_files = [upload_file(client, DATA_FOLDER + file) for file in os.listdir(DATA_FOLDER)]\n",
    "file_ids = [file.id for file in assistant_files]"
   ]
  },
  {
   "cell_type": "markdown",
   "metadata": {},
   "source": [
    "### Process Function calling"
   ]
  },
  {
   "cell_type": "code",
   "execution_count": 26,
   "metadata": {},
   "outputs": [],
   "source": [
    "def call_functions(client: AzureOpenAI, thread: Thread, run: Run) -> None:\n",
    "    print(\"Function Calling\")\n",
    "    required_actions = run.required_action.submit_tool_outputs.model_dump()\n",
    "    print(required_actions)\n",
    "    tool_outputs = []\n",
    "\n",
    "\n",
    "    for action in required_actions[\"tool_calls\"]:\n",
    "        func_name = action[\"function\"][\"name\"]\n",
    "        arguments = json.loads(action[\"function\"][\"arguments\"])\n",
    "\n",
    "        if func_name == \"get_stock_price\":\n",
    "            output = get_stock_price(symbol=arguments[\"symbol\"])\n",
    "            tool_outputs.append({\"tool_call_id\": action[\"id\"], \"output\": output})\n",
    "        else:\n",
    "            raise ValueError(f\"Unknown function: {func_name}\")\n",
    "\n",
    "    client.beta.threads.runs.submit_tool_outputs(thread_id=thread.id, run_id=run.id, tool_outputs=tool_outputs)"
   ]
  },
  {
   "cell_type": "markdown",
   "metadata": {},
   "source": [
    "### Format and display the Assistant Messages for text and images"
   ]
  },
  {
   "cell_type": "code",
   "execution_count": 27,
   "metadata": {},
   "outputs": [],
   "source": [
    "def format_messages(messages: Iterable[Message]) -> None:\n",
    "    message_list = []\n",
    "    message_list = [message for message in messages if message_list.append(message) or message.role != \"user\"]\n",
    "    message_list.reverse()\n",
    "\n",
    "    for message in message_list:\n",
    "        for item in message.content:\n",
    "            if isinstance(item, TextContentBlock):\n",
    "                print(f\"{message.role}:\\n{item.text.value}\\n\")\n",
    "            elif isinstance(item, ImageFileContentBlock):\n",
    "                image = Image.open(io.BytesIO(client.files.content(item.image_file.file_id).read()))\n",
    "                image = image.resize((image.width // 2, image.height // 2), Image.LANCZOS)\n",
    "                display(image)"
   ]
  },
  {
   "cell_type": "markdown",
   "metadata": {},
   "source": [
    "### Process the user messages"
   ]
  },
  {
   "cell_type": "code",
   "execution_count": 28,
   "metadata": {},
   "outputs": [],
   "source": [
    "def process_message(content: str) -> None:\n",
    "    client.beta.threads.messages.create(\n",
    "        thread_id=thread.id, role=\"user\", content=content\n",
    "    )\n",
    "\n",
    "    completed_run = client.beta.threads.runs.create(\n",
    "        thread_id=thread.id,\n",
    "        assistant_id=assistant.id\n",
    "    )\n",
    "    \n",
    "    print(\"processing starting\")\n",
    "\n",
    "    while True:\n",
    "        completed_run = client.beta.threads.runs.poll(run_id=completed_run.id, thread_id=thread.id)\n",
    "        print(\"Completed Run Status: \" + completed_run.status)\n",
    "        if completed_run.status == \"completed\":\n",
    "            messages = client.beta.threads.messages.list(thread_id=thread.id)\n",
    "            format_messages(messages)\n",
    "            break\n",
    "        elif completed_run.status == \"requires_action\":\n",
    "            call_functions(client, thread, completed_run)\n",
    "        elif completed_run.status in [\"failed\", \"expired\", \"cancelled\", \"incomplete\"]:\n",
    "            messages = client.beta.threads.messages.list(thread_id=thread.id)\n",
    "            format_messages(messages)\n",
    "            break\n",
    "    \n",
    "    print(\"processing completed\")"
   ]
  },
  {
   "cell_type": "markdown",
   "metadata": {},
   "source": [
    "### Create an Assistant and a Thread"
   ]
  },
  {
   "cell_type": "code",
   "execution_count": 29,
   "metadata": {},
   "outputs": [],
   "source": [
    "instructions = (\"You are a personal securities trading assistant.\",\n",
    "                \"Please be polite, professional, helpful, and friendly.\", \n",
    "                \"Use the provided stock portfolio CSV file to answer the questions.\",\n",
    "                \"If question is not related to the stock portfolio or you cannot answer the question, \",\n",
    "                \"say, 'contact a representative for more assistance.' \", \n",
    "                \"If the user asks for help or says 'help', provide a list of sample questions that you can answer.\",\n",
    "                f\"The current date and time is: {datetime.now().strftime('%x %X')}.\")\n",
    "\n",
    "assistant = client.beta.assistants.create(\n",
    "    name=\"Portfolio Management Assistant\",\n",
    "    model=api_deployment_name,\n",
    "    instructions=str(instructions),\n",
    "    tools=tools_list,\n",
    "    tool_resources={\"code_interpreter\": {\"file_ids\": file_ids}},\n",
    ")\n",
    "\n"
   ]
  },
  {
   "cell_type": "markdown",
   "metadata": {},
   "source": [
    "### Create a thread\n",
    "\n",
    "Threads in the OpenAI Assistant API are designed to be session-based.\n",
    "Each thread is a conversation between the user and the assistant."
   ]
  },
  {
   "cell_type": "code",
   "execution_count": 30,
   "metadata": {},
   "outputs": [],
   "source": [
    "thread = client.beta.threads.create()"
   ]
  },
  {
   "cell_type": "markdown",
   "metadata": {},
   "source": [
    "### Have a conversation with the Assistant"
   ]
  },
  {
   "cell_type": "code",
   "execution_count": 31,
   "metadata": {},
   "outputs": [
    {
     "name": "stdout",
     "output_type": "stream",
     "text": [
      "processing starting\n",
      "Completed Run Status: completed\n",
      "assistant:\n",
      "Here is the table displaying the investments you own, along with the average cost and the quantity for each investment:\n",
      "\n",
      "| Symbol | Average Cost | Quantity |\n",
      "|--------|--------------|----------|\n",
      "| MSFT   | 200          | 300      |\n",
      "| AAPL   | 114          | 200      |\n",
      "| AMZN   | 125          | 50       |\n",
      "| TSLA   | 900          | 100      |\n",
      "| NFLX   | 540          | 80       |\n",
      "\n",
      "If you have any further questions or need additional information, feel free to ask!\n",
      "\n",
      "processing completed\n"
     ]
    }
   ],
   "source": [
    "process_message(\"Based on the provided portfolio, what investments do I own? Include the average cost and the quantity of each investment. Display as a table\")"
   ]
  },
  {
   "cell_type": "code",
   "execution_count": 33,
   "metadata": {},
   "outputs": [
    {
     "name": "stdout",
     "output_type": "stream",
     "text": [
      "processing starting\n",
      "Completed Run Status: requires_action\n",
      "Function Calling\n",
      "{'tool_calls': [{'id': 'call_COqCqBHFxZBsrfNsnhHXwklP', 'function': {'arguments': '{\"symbol\": \"MSFT\"}', 'name': 'get_stock_price'}, 'type': 'function'}, {'id': 'call_7YLCY934hiJgIsLXbB5o4LdE', 'function': {'arguments': '{\"symbol\": \"AAPL\"}', 'name': 'get_stock_price'}, 'type': 'function'}, {'id': 'call_ZlL9bR7h9uJjlRrVTgXs9w6n', 'function': {'arguments': '{\"symbol\": \"AMZN\"}', 'name': 'get_stock_price'}, 'type': 'function'}, {'id': 'call_irKlCYHDA4T7Bvlpv7NDXeCH', 'function': {'arguments': '{\"symbol\": \"TSLA\"}', 'name': 'get_stock_price'}, 'type': 'function'}, {'id': 'call_Aif3hBTPHXmEU2TZwquG6UYi', 'function': {'arguments': '{\"symbol\": \"NFLX\"}', 'name': 'get_stock_price'}, 'type': 'function'}]}\n",
      "Current price for MSFT is 417.1099853515625\n",
      "Current price for AAPL is 218.36000061035156\n",
      "Current price for AMZN is 184.07000732421875\n",
      "Current price for TSLA is 216.86000061035156\n",
      "Current price for NFLX is 624.8499755859375\n",
      "Completed Run Status: completed\n",
      "assistant:\n",
      "Here is the table displaying the investments you own, along with the average cost and the quantity for each investment:\n",
      "\n",
      "| Symbol | Average Cost | Quantity |\n",
      "|--------|--------------|----------|\n",
      "| MSFT   | 200          | 300      |\n",
      "| AAPL   | 114          | 200      |\n",
      "| AMZN   | 125          | 50       |\n",
      "| TSLA   | 900          | 100      |\n",
      "| NFLX   | 540          | 80       |\n",
      "\n",
      "If you have any further questions or need additional information, feel free to ask!\n",
      "\n",
      "assistant:\n",
      "Here is the table displaying how much each stock returned in dollars and percentage:\n",
      "\n",
      "| Symbol | Return in Dollars | Return in Percentage |\n",
      "|--------|-------------------|----------------------|\n",
      "| MSFT   | $65,132.99        | 108.55%              |\n",
      "| AAPL   | $20,872.00        | 91.54%               |\n",
      "| AMZN   | $2,953.50         | 47.26%               |\n",
      "| TSLA   | -$68,314.00       | -75.90%              |\n",
      "| NFLX   | $6,787.99         | 15.71%               |\n",
      "\n",
      "If you have any further questions or need additional information, feel free to ask!\n",
      "\n",
      "processing completed\n"
     ]
    }
   ],
   "source": [
    "process_message(\"display as a table how much each stock returned in dollars and percentage\")"
   ]
  },
  {
   "cell_type": "code",
   "execution_count": 34,
   "metadata": {},
   "outputs": [
    {
     "name": "stdout",
     "output_type": "stream",
     "text": [
      "processing starting\n",
      "Completed Run Status: completed\n",
      "assistant:\n",
      "Here is the table displaying the investments you own, along with the average cost and the quantity for each investment:\n",
      "\n",
      "| Symbol | Average Cost | Quantity |\n",
      "|--------|--------------|----------|\n",
      "| MSFT   | 200          | 300      |\n",
      "| AAPL   | 114          | 200      |\n",
      "| AMZN   | 125          | 50       |\n",
      "| TSLA   | 900          | 100      |\n",
      "| NFLX   | 540          | 80       |\n",
      "\n",
      "If you have any further questions or need additional information, feel free to ask!\n",
      "\n",
      "assistant:\n",
      "Here is the table displaying how much each stock returned in dollars and percentage:\n",
      "\n",
      "| Symbol | Return in Dollars | Return in Percentage |\n",
      "|--------|-------------------|----------------------|\n",
      "| MSFT   | $65,132.99        | 108.55%              |\n",
      "| AAPL   | $20,872.00        | 91.54%               |\n",
      "| AMZN   | $2,953.50         | 47.26%               |\n",
      "| TSLA   | -$68,314.00       | -75.90%              |\n",
      "| NFLX   | $6,787.99         | 15.71%               |\n",
      "\n",
      "If you have any further questions or need additional information, feel free to ask!\n",
      "\n",
      "assistant:\n",
      "Here is a detailed view of your portfolio:\n",
      "\n",
      "| Symbol | Average Cost | Quantity | Current Price | Investment Value | Current Value | Return in Dollars | Return in Percentage |\n",
      "|--------|--------------|----------|---------------|------------------|---------------|-------------------|----------------------|\n",
      "| MSFT   | $200         | 300      | $417.11       | $60,000          | $125,132.99   | $65,132.99        | 108.55%              |\n",
      "| AAPL   | $114         | 200      | $218.36       | $22,800          | $43,672.00    | $20,872.00        | 91.54%               |\n",
      "| AMZN   | $125         | 50       | $184.07       | $6,250           | $9,203.50     | $2,953.50         | 47.26%               |\n",
      "| TSLA   | $900         | 100      | $216.86       | $90,000          | $21,686.00    | -$68,314.00       | -75.90%              |\n",
      "| NFLX   | $540         | 80       | $624.85       | $43,200          | $49,987.99    | $6,787.99         | 15.71%               |\n",
      "\n",
      "If you have any further questions or need additional information, feel free to ask!\n",
      "\n",
      "processing completed\n"
     ]
    }
   ],
   "source": [
    "process_message(\"display as a table a detailed view of my portfolio\")"
   ]
  },
  {
   "cell_type": "code",
   "execution_count": 35,
   "metadata": {},
   "outputs": [
    {
     "name": "stdout",
     "output_type": "stream",
     "text": [
      "processing starting\n",
      "Completed Run Status: completed\n",
      "assistant:\n",
      "Here is the table displaying the investments you own, along with the average cost and the quantity for each investment:\n",
      "\n",
      "| Symbol | Average Cost | Quantity |\n",
      "|--------|--------------|----------|\n",
      "| MSFT   | 200          | 300      |\n",
      "| AAPL   | 114          | 200      |\n",
      "| AMZN   | 125          | 50       |\n",
      "| TSLA   | 900          | 100      |\n",
      "| NFLX   | 540          | 80       |\n",
      "\n",
      "If you have any further questions or need additional information, feel free to ask!\n",
      "\n",
      "assistant:\n",
      "Here is the table displaying how much each stock returned in dollars and percentage:\n",
      "\n",
      "| Symbol | Return in Dollars | Return in Percentage |\n",
      "|--------|-------------------|----------------------|\n",
      "| MSFT   | $65,132.99        | 108.55%              |\n",
      "| AAPL   | $20,872.00        | 91.54%               |\n",
      "| AMZN   | $2,953.50         | 47.26%               |\n",
      "| TSLA   | -$68,314.00       | -75.90%              |\n",
      "| NFLX   | $6,787.99         | 15.71%               |\n",
      "\n",
      "If you have any further questions or need additional information, feel free to ask!\n",
      "\n",
      "assistant:\n",
      "Here is a detailed view of your portfolio:\n",
      "\n",
      "| Symbol | Average Cost | Quantity | Current Price | Investment Value | Current Value | Return in Dollars | Return in Percentage |\n",
      "|--------|--------------|----------|---------------|------------------|---------------|-------------------|----------------------|\n",
      "| MSFT   | $200         | 300      | $417.11       | $60,000          | $125,132.99   | $65,132.99        | 108.55%              |\n",
      "| AAPL   | $114         | 200      | $218.36       | $22,800          | $43,672.00    | $20,872.00        | 91.54%               |\n",
      "| AMZN   | $125         | 50       | $184.07       | $6,250           | $9,203.50     | $2,953.50         | 47.26%               |\n",
      "| TSLA   | $900         | 100      | $216.86       | $90,000          | $21,686.00    | -$68,314.00       | -75.90%              |\n",
      "| NFLX   | $540         | 80       | $624.85       | $43,200          | $49,987.99    | $6,787.99         | 15.71%               |\n",
      "\n",
      "If you have any further questions or need additional information, feel free to ask!\n",
      "\n"
     ]
    },
    {
     "data": {
      "image/png": "[encoded data removed]",
      "text/plain": [
       "<PIL.Image.Image image mode=RGBA size=889x581>"
      ]
     },
     "metadata": {},
     "output_type": "display_data"
    },
    {
     "name": "stdout",
     "output_type": "stream",
     "text": [
      "assistant:\n",
      "Here is the chart displaying the realized gain or loss of your investments:\n",
      "\n",
      "Each bar represents the return in dollars for each stock in your portfolio. The green bars indicate a gain, while the red bar indicates a loss.\n",
      "\n",
      "If you have any further questions or need additional information, feel free to ask!\n",
      "\n",
      "processing completed\n"
     ]
    }
   ],
   "source": [
    "process_message(\"Chart the realized gain or loss of my investments.\")"
   ]
  },
  {
   "cell_type": "markdown",
   "metadata": {},
   "source": [
    "## Cleaning up"
   ]
  },
  {
   "cell_type": "code",
   "execution_count": 36,
   "metadata": {},
   "outputs": [],
   "source": [
    "if should_cleanup:\n",
    "    client.beta.assistants.delete(assistant.id)\n",
    "    client.beta.threads.delete(thread.id)\n",
    "    for file in assistant_files:\n",
    "        client.files.delete(file.id)"
   ]
  }
 ],
 "metadata": {
  "kernelspec": {
   "display_name": "Python 3 (ipykernel)",
   "language": "python",
   "name": "python3"
  },
  "language_info": {
   "codemirror_mode": {
    "name": "ipython",
    "version": 3
   },
   "file_extension": ".py",
   "mimetype": "text/x-python",
   "name": "python",
   "nbconvert_exporter": "python",
   "pygments_lexer": "ipython3",
   "version": "3.11.9"
  }
 },
 "nbformat": 4,
 "nbformat_minor": 4
}
